{
 "cells": [
  {
   "cell_type": "markdown",
   "metadata": {},
   "source": [
    "Mi pregunta era cómo afectaba a la copia de una lista que uno de los elementos de la lista fuera una variable."
   ]
  },
  {
   "cell_type": "code",
   "execution_count": null,
   "metadata": {},
   "outputs": [],
   "source": [
    "color_favorito = 'azul'\n",
    "lista_colores = ['amarillo', 'blanco', color_favorito]\n",
    "lista_copia = lista_colores.copy()"
   ]
  },
  {
   "cell_type": "markdown",
   "metadata": {},
   "source": [
    "Imprimo las dos listas y veo que por el momento la original y la copiada son idénticas "
   ]
  },
  {
   "cell_type": "code",
   "execution_count": 13,
   "metadata": {},
   "outputs": [
    {
     "name": "stdout",
     "output_type": "stream",
     "text": [
      "la lista original es:  ['amarillo', 'blanco', 'azul']\n",
      "la lista copiada es:  ['amarillo', 'blanco', 'azul']\n"
     ]
    }
   ],
   "source": [
    "print(\"la lista original es: \", lista_colores)\n",
    "print(\"la lista copiada es: \", lista_copia)"
   ]
  },
  {
   "cell_type": "markdown",
   "metadata": {},
   "source": [
    "Probamos a modificar la variable color_favorito, para ver si cambiaría no solo la lista original sino también la copia."
   ]
  },
  {
   "cell_type": "code",
   "execution_count": 14,
   "metadata": {},
   "outputs": [
    {
     "name": "stdout",
     "output_type": "stream",
     "text": [
      "la lista original es:  ['amarillo', 'blanco', 'azul']\n",
      "la lista copiada es:  ['amarillo', 'blanco', 'azul']\n"
     ]
    }
   ],
   "source": [
    "color_favorito = 'rosa'\n",
    "\n",
    "print(\"la lista original es: \", lista_colores)\n",
    "print(\"la lista copiada es: \", lista_copia)"
   ]
  },
  {
   "cell_type": "markdown",
   "metadata": {},
   "source": [
    "Mi sorpresa ha sido que no cambia ninguna. Supongo entonces que cuando metes una variable en una lista, esta simplemente toma el valor de esa variable y lo sustituye y deja de tratarla como variable.\n"
   ]
  }
 ],
 "metadata": {
  "kernelspec": {
   "display_name": "Python 3",
   "language": "python",
   "name": "python3"
  },
  "language_info": {
   "codemirror_mode": {
    "name": "ipython",
    "version": 3
   },
   "file_extension": ".py",
   "mimetype": "text/x-python",
   "name": "python",
   "nbconvert_exporter": "python",
   "pygments_lexer": "ipython3",
   "version": "3.12.4"
  }
 },
 "nbformat": 4,
 "nbformat_minor": 2
}
