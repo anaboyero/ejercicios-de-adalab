{
 "cells": [
  {
   "cell_type": "markdown",
   "metadata": {},
   "source": [
    "Dada una lista de números, duplica cada elemento en la lista"
   ]
  },
  {
   "cell_type": "code",
   "execution_count": 1,
   "metadata": {},
   "outputs": [
    {
     "name": "stdout",
     "output_type": "stream",
     "text": [
      "la lista de mesas duplicada queda: [1, 2, 3, 4, 5, 6, 7, 8, 9, 10, 11, 12, 1, 2, 3, 4, 5, 6, 7, 8, 9, 10, 11, 12]\n"
     ]
    }
   ],
   "source": [
    "meses = [1, 2, 3, 4, 5, 6, 7, 8, 9, 10, 11, 12]\n",
    "\n",
    "mesesx2 = meses + meses\n",
    "\n",
    "print(\"la lista de mesas duplicada queda:\", mesesx2)"
   ]
  },
  {
   "cell_type": "markdown",
   "metadata": {},
   "source": [
    "Descripción: Dadas dos listas, crea una nueva lista que contenga todos los elementos de ambas listas."
   ]
  },
  {
   "cell_type": "code",
   "execution_count": 2,
   "metadata": {},
   "outputs": [
    {
     "name": "stdout",
     "output_type": "stream",
     "text": [
      "La combinación de las dos listas queda: [1, 2, 3, 4, 5, 6, 7, 8, 9, 10, 11, 12, 1984, 1994, 2004, 2024]\n"
     ]
    }
   ],
   "source": [
    "meses = [1, 2, 3, 4, 5, 6, 7, 8, 9, 10, 11, 12]\n",
    "años = [1984, 1994, 2004, 2024]\n",
    "combinada = meses + años\n",
    "print(\"La combinación de las dos listas queda:\", combinada)"
   ]
  },
  {
   "cell_type": "markdown",
   "metadata": {},
   "source": [
    "Calcular la suma de una lista de números."
   ]
  },
  {
   "cell_type": "code",
   "execution_count": 3,
   "metadata": {},
   "outputs": [
    {
     "name": "stdout",
     "output_type": "stream",
     "text": [
      "la suma usando la función sum() da: 187\n",
      "la suma usando la indexación de los elementos da: 187\n"
     ]
    }
   ],
   "source": [
    "edades = [20, 30, 40, 56, 29, 12]\n",
    "\n",
    "suma_edades1 = sum(edades)\n",
    "\n",
    "suma_edades2 = edades[0] + edades[1] + edades[2] + edades[3] + edades[4] + edades[5] \n",
    "\n",
    "print(\"la suma usando la función sum() da:\", suma_edades1)\n",
    "\n",
    "print(\"la suma usando la indexación de los elementos da:\", suma_edades2)\n"
   ]
  },
  {
   "cell_type": "markdown",
   "metadata": {},
   "source": [
    "Encontrar el valor máximo en una lista"
   ]
  },
  {
   "cell_type": "code",
   "execution_count": 4,
   "metadata": {},
   "outputs": [
    {
     "name": "stdout",
     "output_type": "stream",
     "text": [
      "La edad más alta del grupo es:  56\n"
     ]
    }
   ],
   "source": [
    "edad_max = max(edades)\n",
    "print(\"La edad más alta del grupo es: \", edad_max)"
   ]
  },
  {
   "cell_type": "markdown",
   "metadata": {},
   "source": [
    "Calcular la longitud de una lista"
   ]
  },
  {
   "cell_type": "code",
   "execution_count": 5,
   "metadata": {},
   "outputs": [
    {
     "name": "stdout",
     "output_type": "stream",
     "text": [
      "La longitud de la lista de los meses es: 12\n"
     ]
    }
   ],
   "source": [
    "longitud = len(meses)\n",
    "print(f\"La longitud de la lista de los meses es: {longitud}\")"
   ]
  },
  {
   "cell_type": "markdown",
   "metadata": {},
   "source": [
    "Encontrar el índice de un elemento en una lista"
   ]
  },
  {
   "cell_type": "code",
   "execution_count": 6,
   "metadata": {},
   "outputs": [
    {
     "name": "stdout",
     "output_type": "stream",
     "text": [
      "El mes 6 se encuentra en la posición: 5\n"
     ]
    }
   ],
   "source": [
    "indice = meses.index(6)\n",
    "print(f\"El mes 6 se encuentra en la posición: {indice}\")"
   ]
  },
  {
   "cell_type": "markdown",
   "metadata": {},
   "source": [
    "Dada una lista y un valor objetivo, cuenta cuántas veces aparece el valor objetivo en la lista.\n"
   ]
  },
  {
   "cell_type": "code",
   "execution_count": 7,
   "metadata": {},
   "outputs": [
    {
     "name": "stdout",
     "output_type": "stream",
     "text": [
      "En la lista duplicada de los meses tenemos 2 eneros\n"
     ]
    }
   ],
   "source": [
    "num_eneros = mesesx2.count(1)\n",
    "print(\"En la lista duplicada de los meses tenemos\", num_eneros, \"eneros\")"
   ]
  },
  {
   "cell_type": "markdown",
   "metadata": {},
   "source": [
    "Dada una lista, crea una nueva lista que contenga los elementos desde el índice 2 hasta el índice 5 (sin incluirlo)."
   ]
  },
  {
   "cell_type": "code",
   "execution_count": 8,
   "metadata": {},
   "outputs": [
    {
     "name": "stdout",
     "output_type": "stream",
     "text": [
      "El tercer, cuarto y quinto mes del año son ['marzo', 'abril', 'mayo']\n"
     ]
    }
   ],
   "source": [
    "meses = ['enero', 'febrero', 'marzo', 'abril', 'mayo', 'junio', 'julio', 'agosto', 'septiembre', 'octubre', 'noviembre', 'diciembre']\n",
    "subcadena =meses[2:5]\n",
    "print(f\"El tercer, cuarto y quinto mes del año son {subcadena}\")"
   ]
  },
  {
   "cell_type": "markdown",
   "metadata": {},
   "source": [
    "Obtener el último elemento de una lista"
   ]
  },
  {
   "cell_type": "code",
   "execution_count": 9,
   "metadata": {},
   "outputs": [
    {
     "name": "stdout",
     "output_type": "stream",
     "text": [
      "El último mes del año es diciembre\n"
     ]
    }
   ],
   "source": [
    "print(f\"El último mes del año es {meses[-1]}\")"
   ]
  },
  {
   "cell_type": "markdown",
   "metadata": {},
   "source": [
    "Dada una lista, obtén una sublista que contenga los elementos desde el índice 1 hasta el índice 3 (sin incluirlo)."
   ]
  },
  {
   "cell_type": "code",
   "execution_count": 12,
   "metadata": {},
   "outputs": [
    {
     "name": "stdout",
     "output_type": "stream",
     "text": [
      "El segundo y tercer mes del años son: ['febrero', 'marzo']\n"
     ]
    }
   ],
   "source": [
    "sublista = meses[1:3]\n",
    "print(f\"El segundo y tercer mes del años son: {sublista}\")"
   ]
  },
  {
   "cell_type": "markdown",
   "metadata": {},
   "source": [
    "Dada una lista, reemplaza el segundo elemento con un nuevo valor."
   ]
  },
  {
   "cell_type": "code",
   "execution_count": 10,
   "metadata": {},
   "outputs": [
    {
     "name": "stdout",
     "output_type": "stream",
     "text": [
      "['enero', 'ese mes de 28 días', 'marzo', 'abril', 'mayo', 'junio', 'julio', 'agosto', 'septiembre', 'octubre', 'noviembre', 'diciembre']\n"
     ]
    }
   ],
   "source": [
    "meses = ['enero', 'febrero', 'marzo', 'abril', 'mayo', 'junio', 'julio', 'agosto', 'septiembre', 'octubre', 'noviembre', 'diciembre']\n",
    "meses[1] = \"ese mes de 28 días\"\n",
    "print(meses)"
   ]
  },
  {
   "cell_type": "markdown",
   "metadata": {},
   "source": [
    "Obtener una lista inversa"
   ]
  },
  {
   "cell_type": "code",
   "execution_count": 11,
   "metadata": {},
   "outputs": [
    {
     "name": "stdout",
     "output_type": "stream",
     "text": [
      "Los meses en orden normal son:  ['enero', 'febrero', 'marzo', 'abril', 'mayo', 'junio', 'julio', 'agosto', 'septiembre', 'octubre', 'noviembre', 'diciembre']\n",
      "Los meses al revés son ['diciembre', 'noviembre', 'octubre', 'septiembre', 'agosto', 'julio', 'junio', 'mayo', 'abril', 'marzo', 'febrero', 'enero']\n"
     ]
    }
   ],
   "source": [
    "meses = ['enero', 'febrero', 'marzo', 'abril', 'mayo', 'junio', 'julio', 'agosto', 'septiembre', 'octubre', 'noviembre', 'diciembre']\n",
    "meses2 = meses.copy()\n",
    "meses2.reverse()\n",
    "print(\"Los meses en orden normal son: \", meses)\n",
    "print(\"Los meses al revés son\", meses2)"
   ]
  },
  {
   "cell_type": "markdown",
   "metadata": {},
   "source": [
    "Dada una lista de números, ordénala en orden ascendente."
   ]
  },
  {
   "cell_type": "code",
   "execution_count": 12,
   "metadata": {},
   "outputs": [
    {
     "name": "stdout",
     "output_type": "stream",
     "text": [
      "Las temperaturas del paciente de menor a mayor son: [36.9, 37, 38, 38.5, 38.6, 39.1, 40]\n"
     ]
    }
   ],
   "source": [
    "temperaturas_paciente = [38, 39.1, 37, 40, 38.5, 36.9, 38.6 ]\n",
    "temperaturas_paciente.sort()\n",
    "print(f\"Las temperaturas del paciente de menor a mayor son:\", temperaturas_paciente)\n"
   ]
  },
  {
   "cell_type": "markdown",
   "metadata": {},
   "source": [
    "Dada una lista, obtén una nueva lista que contenga solo los elementos en posiciones pares."
   ]
  },
  {
   "cell_type": "code",
   "execution_count": 13,
   "metadata": {},
   "outputs": [
    {
     "name": "stdout",
     "output_type": "stream",
     "text": [
      "Los meses pares del año son ['febrero', 'abril', 'junio', 'agosto', 'octubre', 'diciembre']\n"
     ]
    }
   ],
   "source": [
    "meses_pares = meses[1::2]\n",
    "print(f\"Los meses pares del año son {meses_pares}\")"
   ]
  },
  {
   "cell_type": "markdown",
   "metadata": {},
   "source": [
    "Dada una lista, obtén una sublista que contenga los elementos saltando de 3 en 3."
   ]
  },
  {
   "cell_type": "code",
   "execution_count": 14,
   "metadata": {},
   "outputs": [
    {
     "name": "stdout",
     "output_type": "stream",
     "text": [
      "Los autónomos presentan trimestral en: ['enero', 'abril', 'julio', 'octubre']\n"
     ]
    }
   ],
   "source": [
    "meses_trimestrales = meses[::3]\n",
    "print(\"Los autónomos presentan trimestral en:\", meses_trimestrales)\n"
   ]
  },
  {
   "cell_type": "markdown",
   "metadata": {},
   "source": [
    "Encontrar el segundo valor máximo en una lista"
   ]
  },
  {
   "cell_type": "code",
   "execution_count": 19,
   "metadata": {},
   "outputs": [
    {
     "name": "stdout",
     "output_type": "stream",
     "text": [
      "La segunda mejor nota después de 10 es: 9\n"
     ]
    }
   ],
   "source": [
    "notas = [6, 5, 6, 8, 9, 10, 4]\n",
    "maxima = max(notas)\n",
    "notas2 = notas.copy()\n",
    "notas2.remove(maxima)\n",
    "segunda_maxima = max(notas2)\n",
    "print(f\"La segunda mejor nota después de {maxima} es: {segunda_maxima}\")"
   ]
  },
  {
   "cell_type": "markdown",
   "metadata": {},
   "source": [
    "¿Qué diferencia existe entre el .sort() y el sorted()"
   ]
  },
  {
   "cell_type": "markdown",
   "metadata": {},
   "source": [
    "El método .sort() modifica la lista que lo invoca (la sobreescribe con el nuevo orden) y no devuelve nada, mientras que sorted() sí devueve ordenada la lista que se le pasa por parámetro."
   ]
  },
  {
   "cell_type": "markdown",
   "metadata": {},
   "source": [
    "Dada una lista inicial, agrega nuevos elementos utilizando tanto append como extend y observa las diferencias en el resultado final. El elemento que deberéis usar para añadir a la lista original tiene que ser una lista."
   ]
  },
  {
   "cell_type": "code",
   "execution_count": 29,
   "metadata": {},
   "outputs": [
    {
     "name": "stdout",
     "output_type": "stream",
     "text": [
      "Con el método append añado una lista. La maleta tiene una longitud de 4 y queda así: ['camiseta', 'top', 'vaqueros', ['ipad', 'cargador', 'móvil']]\n",
      "Con  extend añadiré uno a uno los elementos. La maleta tiene una longitud de 6  queda así: ['camiseta', 'top', 'vaqueros', 'ipad', 'cargador', 'móvil']\n"
     ]
    }
   ],
   "source": [
    "maleta = ['camiseta', 'top', 'vaqueros']\n",
    "accesorios = ['ipad', 'cargador', 'móvil']\n",
    "\n",
    "maleta2= maleta.copy()\n",
    "\n",
    "maleta.append(accesorios)\n",
    "print(f\"Con el método append añado una lista. La maleta tiene una longitud de {len(maleta)} y queda así: {maleta}\")\n",
    "\n",
    "\n",
    "maleta2.extend(accesorios)\n",
    "print(f\"Con  extend añadiré uno a uno los elementos. La maleta tiene una longitud de {len(maleta2)}  queda así: {maleta2}\")"
   ]
  },
  {
   "cell_type": "markdown",
   "metadata": {},
   "source": [
    "Dada una lista, inserta un nuevo elemento en una posición específica determinada por el usuario (debereis usar la función input para preguntar al usuario en que posición quiere insertar el elemento)."
   ]
  },
  {
   "cell_type": "code",
   "execution_count": 32,
   "metadata": {},
   "outputs": [
    {
     "name": "stdout",
     "output_type": "stream",
     "text": [
      "La maleta queda así tras añadir la cartera: ['camiseta', 'top', 'cartera', 'vaqueros']\n"
     ]
    }
   ],
   "source": [
    "maleta = ['camiseta', 'top', 'vaqueros']\n",
    "posicion = int(input(\"Escoge en qué posición quieres guardar tu cartera\"))\n",
    "maleta.insert(posicion, 'cartera')\n",
    "print(f\"La maleta queda así tras añadir la cartera: {maleta}\")"
   ]
  },
  {
   "cell_type": "markdown",
   "metadata": {},
   "source": [
    "Verificar si un elemento está presente en una lista\n",
    "\n",
    "Descripción: Dada una lista, verifica si un elemento específico está presente en ella. Igual que el caso anterior, debereis preguntar al usuario que elemento quiere buscar en la lista. El resultado deberá ser True o False"
   ]
  },
  {
   "cell_type": "code",
   "execution_count": 33,
   "metadata": {},
   "outputs": [
    {
     "name": "stdout",
     "output_type": "stream",
     "text": [
      "¿Está top en la maleta? La respuesta es: True\n"
     ]
    }
   ],
   "source": [
    "maleta = ['camiseta', 'top', 'cartera', 'vaqueros']\n",
    "elemento = input(\"¿Qué elemento quieres buscar en la maleta?\")\n",
    "print(f\"¿Está {elemento} en la maleta? La respuesta es: {elemento in maleta}\")"
   ]
  },
  {
   "cell_type": "markdown",
   "metadata": {},
   "source": [
    "Manipulación de una lista utilizando remove(), pop() y clear()\n",
    "\n",
    "Descripción: Crea una lista inicial, realiza operaciones de eliminación y limpieza utilizando los métodos remove(), pop() y clear(), y observa cómo afectan a la lista."
   ]
  },
  {
   "cell_type": "code",
   "execution_count": 40,
   "metadata": {},
   "outputs": [
    {
     "name": "stdout",
     "output_type": "stream",
     "text": [
      "Este es mi album de fotos del verano ['Salou_2015', 'Mallorca_2018', 'Cadiz_2021', 'Santiago_2023']\n",
      "Tras la limpia, queda así ['Mallorca_2018', 'Cadiz_2021', 'Santiago_2023']\n",
      "Con el nuevo orden, queda así ['Santiago_2023', 'Mallorca_2018', 'Cadiz_2021']\n",
      "Tras haber borrado, en mi ordenador solo queda esto: []\n"
     ]
    }
   ],
   "source": [
    "fotos_verano = [\"Salou_2015\", \"Mallorca_2018\", \"Cadiz_2021\", \"Santiago_2023\"]\n",
    "\n",
    "print(\"Este es mi album de fotos del verano\", fotos_verano)\n",
    "\n",
    "# Voy a ordenar y limpiarlo. Empiezo borrando todos mis recuerdos de Salou\n",
    "\n",
    "fotos_verano.remove(\"Salou_2015\")\n",
    "\n",
    "print(\"Tras la limpia, queda así\", fotos_verano)\n",
    "\n",
    "# Quiero colocar las fotos del último verano en primera posición\n",
    "\n",
    "fotos = fotos_verano.pop(-1)\n",
    "fotos_verano.insert(0, fotos)\n",
    "\n",
    "print(\"Con el nuevo orden, queda así\", fotos_verano)\n",
    "\n",
    "# Quiero hacer una copia de mi nuevo album ordenado\n",
    "\n",
    "fotos_usb = fotos_verano.copy\n",
    "\n",
    "# Y ahora quiero vaciar el album de fotos de mi ordenador\n",
    "\n",
    "fotos_verano.clear()\n",
    "\n",
    "print(f\"Tras haber borrado, en mi ordenador solo queda esto: {fotos_verano}\")\n"
   ]
  }
 ],
 "metadata": {
  "kernelspec": {
   "display_name": "base",
   "language": "python",
   "name": "python3"
  },
  "language_info": {
   "codemirror_mode": {
    "name": "ipython",
    "version": 3
   },
   "file_extension": ".py",
   "mimetype": "text/x-python",
   "name": "python",
   "nbconvert_exporter": "python",
   "pygments_lexer": "ipython3",
   "version": "3.12.4"
  }
 },
 "nbformat": 4,
 "nbformat_minor": 2
}
