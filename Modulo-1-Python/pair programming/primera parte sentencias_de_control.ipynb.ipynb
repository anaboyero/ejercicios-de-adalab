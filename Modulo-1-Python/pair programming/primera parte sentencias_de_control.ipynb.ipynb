{
 "cells": [
  {
   "cell_type": "markdown",
   "metadata": {},
   "source": [
    "## Sentencias de control.\n",
    "\n",
    "    * Recordar los operadoes condicionales!: == , !=, <=, >= . NOS AYUDA A CREAR LA LOGICA BASADA EN UNA CONDICION!\n",
    "    * La sentencia IF compara y devuelve un booleano (True or False)."
   ]
  },
  {
   "cell_type": "code",
   "execution_count": null,
   "metadata": {},
   "outputs": [],
   "source": [
    "a = 10\n",
    "b = 20\n",
    "c= 30"
   ]
  },
  {
   "cell_type": "code",
   "execution_count": null,
   "metadata": {},
   "outputs": [],
   "source": [
    "print(a)\n",
    "print(b)\n",
    "print(c)"
   ]
  },
  {
   "cell_type": "code",
   "execution_count": null,
   "metadata": {},
   "outputs": [],
   "source": [
    "# es lo mismo que hacer...\n",
    "\n",
    "a,b,c = 1,2,3"
   ]
  },
  {
   "cell_type": "code",
   "execution_count": null,
   "metadata": {},
   "outputs": [],
   "source": [
    "print(a)\n",
    "print(b)\n",
    "print(c)"
   ]
  },
  {
   "cell_type": "code",
   "execution_count": null,
   "metadata": {},
   "outputs": [],
   "source": [
    "print(f\"a es mayor que c? {a>c}\")\n",
    "print(f\"a es menor que c? {a<c}\")\n",
    "print(f\"a es igual que c? {a==c}\")"
   ]
  },
  {
   "cell_type": "markdown",
   "metadata": {},
   "source": [
    "En este punto es importante diferenciar las estructuras de control flow\n",
    "\n",
    "    * De seleccion, que es el if.\n",
    "    * Las estructuras de iteracion, que son for y  while.\n",
    "    * De control de funciones (break, continue y pass)\n",
    "\n",
    "Nosotros por ahora nos concentramos en IF y WHILE."
   ]
  },
  {
   "cell_type": "markdown",
   "metadata": {},
   "source": [
    "## Sentencia IF\n",
    "\n",
    "    * Si la condicion se evalua True, se ejecuta el codigo indentado.\n",
    "    * Si la condicion se evalua False, NO se ejecuta el codigo indentado."
   ]
  },
  {
   "cell_type": "code",
   "execution_count": null,
   "metadata": {},
   "outputs": [],
   "source": [
    "# Pensemos en un ejercicio, tratemos de evaluar la entrada a un cine! solo se puede entrar si el cliente tiene mas de 18 años.\n",
    "\n",
    "# Pidamos al usuario su edad y en base a entrara o no.\n",
    "\n",
    "cliente = int(input(\"por favor ingrese su edad:\"))\n",
    "\n",
    "if cliente > 18 :\n",
    "    print(\"el cliente puede ingresar\")\n"
   ]
  },
  {
   "cell_type": "code",
   "execution_count": null,
   "metadata": {},
   "outputs": [],
   "source": [
    "# llevemos un poco mas lejos el ejecicio! si puedes ingresar y tienes mas de 60 años TIENES DESCUENTO!!\n",
    "\n",
    "cliente = int(input(\"por favor ingrese su edad:\"))\n",
    "\n",
    "if cliente > 60:\n",
    "    print(\"puedes entrar y tienes super descuento!!!!\")\n",
    "\n",
    "elif cliente > 18:\n",
    "    print(\"puede entrar\")"
   ]
  },
  {
   "cell_type": "code",
   "execution_count": null,
   "metadata": {},
   "outputs": [],
   "source": [
    "# Aun no tenemos definido que hacer con aquellos que no pueden entrar!! como es el ultimo caso podriamos usar el ELSE!\n",
    "\n",
    "cliente = int(input(\"por favor ingrese su edad:\"))\n",
    "\n",
    "if cliente > 60:\n",
    "    print(\"super descuento!!!!\")\n",
    "\n",
    "elif cliente > 18:\n",
    "    print(\"puede entrar\")\n",
    "\n",
    "else:\n",
    "    print(\"no puedes entrar...a jugar a la play!\")"
   ]
  },
  {
   "cell_type": "code",
   "execution_count": null,
   "metadata": {},
   "outputs": [],
   "source": [
    "# Ok nuestro cine ademas de tener promociones es muy exigente! solo nos dara un SUPER DESCUENTO A LOS MAYORES DE 60 AÑOS LOS DIAS VIERNES!\n",
    "#  el resto de los dias los mayores tendran solo el descuento.\n",
    "\n",
    "# Los demas adultos tendran descuento solo los dias miercoles.\n",
    "\n",
    "cliente = int(input(\"por favor ingrese su edad:\"))\n",
    "dia = str(input(\"que dia es?\")).lower()\n",
    "\n",
    "\n",
    "if cliente > 60 :\n",
    "    if dia == \"viernes\":\n",
    "        print(\"un SUPER DESCUENTO!!!...por ser viernes\")\n",
    "    else:\n",
    "        print(\"adulto mayor con descuento\")\n",
    "elif cliente > 18:\n",
    "    if dia == \"miercoles\":\n",
    "        print(\"tienes descuento...por ser miercoles!\")\n",
    "    else:\n",
    "        print(\"simplemente puede ingresar\")\n",
    "\n",
    "else:\n",
    "    print(\"no puedes ver deadpool....espera a netflix!\")\n",
    "\n",
    "print(\"finalizo mi programa\")"
   ]
  },
  {
   "cell_type": "code",
   "execution_count": null,
   "metadata": {},
   "outputs": [],
   "source": [
    "# Hasta ahora muy bien...podriamos simplificar lo de antes chequeando todas las condiciones ...usemos AND y OR \n",
    "\n",
    "cliente = int(input(\"por favor ingrese su edad:\"))\n",
    "dia = str(input(\"que dia es?\")).lower()\n",
    "\n",
    "\n",
    "if cliente > 60 and dia == \"viernes\":\n",
    "    print(\"un SUPER DESCUENTO!!!...por ser viernes\")\n",
    "elif cliente > 60:\n",
    "    print(\"tiene descuento por adulto mayor\")\n",
    "elif cliente > 18 and dia == \"miercoles\":\n",
    "    print(\"tienes descuento...por ser miercoles!\")\n",
    "elif cliente > 18:\n",
    "    print(\"puede ingresar\")\n",
    "else:\n",
    "    print(\"no puedes ver deadpool....espera a netflix!\")"
   ]
  },
  {
   "cell_type": "markdown",
   "metadata": {},
   "source": [
    "## Operaciones con \"and\"\n",
    "\n",
    "| izquierdo | derecho | resultado |\n",
    "|-----------|---------|-----------|\n",
    "| True      | True    | True      |\n",
    "| True      | False   | False     |\n",
    "| False     | True    | False     |\n",
    "| False     | False   | False     |\n"
   ]
  },
  {
   "cell_type": "markdown",
   "metadata": {},
   "source": [
    "## Operaciones con \"or\"\n",
    "\n",
    "| izquierdo | derecho | resultado |\n",
    "|-----------|---------|-----------|\n",
    "| True      | True    | True      |\n",
    "| True      | False   | True      |\n",
    "| False     | True    | True      |\n",
    "| False     | False   | False     |\n"
   ]
  },
  {
   "cell_type": "code",
   "execution_count": null,
   "metadata": {},
   "outputs": [],
   "source": [
    "# 1) el AND tiene prioridad!!\n",
    "# 2) de izquierda a derecha evaluar los or que quedan\n",
    "\n",
    "e and f or c or d or a and b\n",
    "\n",
    "False or c or d  or True\n",
    "\n",
    "False or d or True\n",
    "\n",
    "True or True\n",
    "\n",
    "True"
   ]
  },
  {
   "cell_type": "markdown",
   "metadata": {},
   "source": [
    "---"
   ]
  },
  {
   "cell_type": "markdown",
   "metadata": {},
   "source": [
    "## Ciclo while\n",
    "\n",
    "Nos permite ejecutar un bloque de codigo MIENTRAS se cumple una condicion....es decir que la condicion sea......??????"
   ]
  },
  {
   "cell_type": "code",
   "execution_count": 27,
   "metadata": {},
   "outputs": [
    {
     "name": "stdout",
     "output_type": "stream",
     "text": [
      "tengo 4 peras, me como 1 ahora mismo!\n",
      "tengo 3 peras, me como 1 ahora mismo!\n",
      "tengo 2 peras, me como 1 ahora mismo!\n",
      "tengo 1 peras, me como 1 ahora mismo!\n",
      " me quede sin peras!!!\n"
     ]
    }
   ],
   "source": [
    "# Nuestras queridas peras!!! tenemos una cantidad de peras, pero como nos gustan tanto las iremos comiendo hasta no dejar nada!!!\n",
    "# hagamos un programita para contar lo glotones que somos contando cuantas peras nos van quedando...al quedar con cero diremos que no hay mas!\n",
    "\n",
    "peras = int(input(\"cuantas peras tienes?:\"))\n",
    "\n",
    "\n",
    "while peras > 0:\n",
    "    print(f\"tengo {peras} peras, me como 1 ahora mismo!\")\n",
    "    peras -= 1\n",
    "\n",
    "print(\" me quede sin peras!!!\")"
   ]
  },
  {
   "cell_type": "code",
   "execution_count": 31,
   "metadata": {},
   "outputs": [
    {
     "name": "stdout",
     "output_type": "stream",
     "text": [
      "estoy jugando!!!\n",
      "salimos del programa\n"
     ]
    }
   ],
   "source": [
    "# hagamos un juego!!! las opciones son 1. quiero jugar, 2. no quiero jugar\n",
    "\n",
    "opcion = int(input(\" elige 1 si quieres jugar o 2 si no quieres jugar\"))\n",
    "\n",
    "if opcion == 1:\n",
    "    jugando = True\n",
    "else:\n",
    "    jugando = False\n",
    "\n",
    "while jugando:\n",
    "    print(\"estoy jugando!!!\")\n",
    "    jugando = False\n",
    "\n",
    "print(\"salimos del programa\")"
   ]
  },
  {
   "cell_type": "code",
   "execution_count": 32,
   "metadata": {},
   "outputs": [
    {
     "name": "stdout",
     "output_type": "stream",
     "text": [
      "¡Estamos jugando! ¡Iupiiii! Este es tu juego número 1.\n",
      "¡Estamos jugando! ¡Iupiiii! Este es tu juego número 2.\n",
      "¡Estamos jugando! ¡Iupiiii! Este es tu juego número 3.\n",
      "Salimos del juego o no entramos. Jugaste 3 veces.\n"
     ]
    }
   ],
   "source": [
    "# umm...un poco flojo ese while!!! podriamos ir contando las veces que jugamos, es decir las veces que se itera por el ciclo!\n",
    "# Para eso nuevamente pidamos las opciones al usuario!\n",
    "\n",
    "opcion = int(input(\"\"\"Elige una opción de juego:\n",
    "                   1. QUIERO JUGAR\n",
    "                   2. NO QUIERO JUGAR\n",
    "                   \"\"\"))\n",
    "\n",
    "# si es 1 queremos jugar...de lo contrario somos muy aburridos y no jugamos!\n",
    "if opcion == 1:\n",
    "    jugando = True\n",
    "else:\n",
    "    jugando = False\n",
    "\n",
    "# un contador que nos servira para saber cuantas veces jugamos\n",
    "contador_juegos = 0\n",
    "\n",
    "# Bucle While para nuestro juego!!! entraremos si la condicion es True!\n",
    "while jugando:\n",
    "    contador_juegos += 1\n",
    "    print(f\"¡Estamos jugando! ¡Iupiiii! Este es tu juego número {contador_juegos}.\")\n",
    "    \n",
    "    # Preguntar si quiere seguir jugando\n",
    "    seguimos = str(input(\"¿Quieres seguir jugando? (sí/no): \")).lower()\n",
    "    if seguimos == \"si\":\n",
    "        jugando = True\n",
    "    else:\n",
    "        jugando = False\n",
    "\n",
    "print(f\"Salimos del juego o no entramos. Jugaste {contador_juegos} veces.\")"
   ]
  }
 ],
 "metadata": {
  "kernelspec": {
   "display_name": "Python 3",
   "language": "python",
   "name": "python3"
  },
  "language_info": {
   "codemirror_mode": {
    "name": "ipython",
    "version": 3
   },
   "file_extension": ".py",
   "mimetype": "text/x-python",
   "name": "python",
   "nbconvert_exporter": "python",
   "pygments_lexer": "ipython3",
   "version": "3.11.7"
  }
 },
 "nbformat": 4,
 "nbformat_minor": 2
}
