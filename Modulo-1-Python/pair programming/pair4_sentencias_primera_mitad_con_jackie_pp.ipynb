{
 "cells": [
  {
   "cell_type": "markdown",
   "metadata": {},
   "source": [
    "Descripción: Dado un número, verifica si es positivo, negativo o cero."
   ]
  },
  {
   "cell_type": "code",
   "execution_count": 2,
   "metadata": {},
   "outputs": [
    {
     "name": "stdout",
     "output_type": "stream",
     "text": [
      "0  es cero\n"
     ]
    }
   ],
   "source": [
    "numero = int(input(\"Por favor ingresa:\"))\n",
    "\n",
    "if numero < 0 :\n",
    "\n",
    "    print(numero, \"es un numero negativo\")\n",
    "\n",
    "elif numero > 0 :\n",
    "     print(numero, \"es un numero positivo\")\n",
    "\n",
    "\n",
    "else :\n",
    "     \n",
    "     print(numero, \" es cero\")"
   ]
  },
  {
   "cell_type": "markdown",
   "metadata": {},
   "source": [
    "Descripción: Dado un número, verifica si es par o impar."
   ]
  },
  {
   "cell_type": "code",
   "execution_count": 3,
   "metadata": {},
   "outputs": [
    {
     "name": "stdout",
     "output_type": "stream",
     "text": [
      "Es numero impar\n"
     ]
    }
   ],
   "source": [
    "cifra = 5\n",
    "\n",
    "if cifra %2 == 0 :\n",
    "\n",
    "    print(\"Es numero par\")\n",
    "\n",
    "else :\n",
    "    print(\"Es numero impar\")"
   ]
  },
  {
   "cell_type": "markdown",
   "metadata": {},
   "source": [
    "Dada la calificación de un estudiante en un examen, verifica si aprobó o suspendió (si la calificación es mayor o igual a 60 se considera aprobado"
   ]
  },
  {
   "cell_type": "code",
   "execution_count": 5,
   "metadata": {},
   "outputs": [
    {
     "name": "stdout",
     "output_type": "stream",
     "text": [
      "Estudiante no ha aprobado\n"
     ]
    }
   ],
   "source": [
    "calificacion = 20\n",
    "\n",
    "if calificacion >= 60: \n",
    "\n",
    "    print(\"LEstudiante ha aprobado\")\n",
    "\n",
    "else : \n",
    "\n",
    "    print(\"Estudiante no ha aprobado\")"
   ]
  },
  {
   "cell_type": "markdown",
   "metadata": {},
   "source": [
    "Dados dos números, encuentra el máximo entre ellos."
   ]
  },
  {
   "cell_type": "code",
   "execution_count": 9,
   "metadata": {},
   "outputs": [
    {
     "name": "stdout",
     "output_type": "stream",
     "text": [
      "El numero mayor es 60\n",
      "60 es el numero mayor\n",
      "20 es el numero menor\n"
     ]
    }
   ],
   "source": [
    "\n",
    "\n",
    "numero1 = 20\n",
    "numero2 = 60\n",
    "\n",
    "lista_numeros = [numero1, numero2]\n",
    "\n",
    "max_lista =max(lista_numeros)\n",
    "\n",
    "print(\"El numero mayor es\", max_lista)\n",
    "\n",
    "num_mayor = max(numero1, numero2)\n",
    "num_menor = min(numero2, numero1)\n",
    "\n",
    "print(num_mayor, \"es el numero mayor\")\n",
    "print(num_menor, \"es el numero menor\")\n",
    "\n",
    "\n",
    "\n",
    "\n",
    "\n"
   ]
  },
  {
   "cell_type": "markdown",
   "metadata": {},
   "source": [
    "Dada una letra, verifica si es una vocal o una consonante."
   ]
  },
  {
   "cell_type": "code",
   "execution_count": 12,
   "metadata": {},
   "outputs": [
    {
     "name": "stdout",
     "output_type": "stream",
     "text": [
      "Es una vocal\n"
     ]
    }
   ],
   "source": [
    "letra = 'a'\n",
    "\n",
    "if letra == \"a\" or letra == \"e\" or letra == \"i\" or letra ==\"o\" or letra == \"u\" :\n",
    "    print(\"Es una vocal\")\n",
    "\n",
    "else :\n",
    "\n",
    "    print(\"Es una consonante\")"
   ]
  },
  {
   "cell_type": "markdown",
   "metadata": {},
   "source": [
    " Dado el monto total de una compra, calcula el descuento aplicado según las siguientes condiciones: si el monto es mayor o igual a $100, aplica un descuento del 10%; de lo contrario, no aplica ningún descuento."
   ]
  },
  {
   "cell_type": "code",
   "execution_count": 15,
   "metadata": {},
   "outputs": [
    {
     "name": "stdout",
     "output_type": "stream",
     "text": [
      "El total a pagar con el descuento aplicado es {135.0}\n"
     ]
    }
   ],
   "source": [
    "compra = 150\n",
    "\n",
    "if compra >= 100 :\n",
    "\n",
    "    total_descuento = compra * 0.10\n",
    "    total_compra = compra - total_descuento\n",
    "    print(f\"El total a pagar con el descuento aplicado es {total_compra}\")\n",
    "\n",
    "else :\n",
    "    print(\"El total a pagar es\", compra)\n",
    "\n"
   ]
  },
  {
   "cell_type": "markdown",
   "metadata": {},
   "source": [
    "Dado un año, verifica si es bisiesto o no (un año es bisiesto si es divisible entre 4, excepto aquellos divisibles entre 100 pero no entre 400).\n"
   ]
  },
  {
   "cell_type": "code",
   "execution_count": 6,
   "metadata": {},
   "outputs": [
    {
     "name": "stdout",
     "output_type": "stream",
     "text": [
      "Año no es bisiesto\n"
     ]
    }
   ],
   "source": [
    "year = 1900\n",
    "\n",
    "if year %4 == 0 :   \n",
    "\n",
    "    if year %100 == 0  and year %400 != 0 :\n",
    "\n",
    "        print(\"Año no es bisiesto\")\n",
    "\n",
    "    else :\n",
    "\n",
    "        print(\"Año bisiesto\")\n",
    "    \n",
    "else :\n",
    "    print(\"Año no bisiesto\")\n",
    "\n",
    "\n",
    "\n",
    "\n",
    "    \n",
    "\n"
   ]
  },
  {
   "cell_type": "markdown",
   "metadata": {},
   "source": [
    "Dada una edad, asigna una categoría según las siguientes condiciones: si la edad es menor de 18, la categoría es \"Menor de edad\"; si la edad está entre 18 y 64 (incluyendo ambos), la categoría es \"Adulto\"; de lo contrario, la categoría es \"Adulto mayor\"."
   ]
  },
  {
   "cell_type": "code",
   "execution_count": 9,
   "metadata": {},
   "outputs": [
    {
     "name": "stdout",
     "output_type": "stream",
     "text": [
      "Adulto Mayor\n"
     ]
    }
   ],
   "source": [
    "edad = 65\n",
    "\n",
    "if edad < 18 :\n",
    "    print(\"Categoria Menor de edad\")\n",
    "\n",
    "elif edad >= 18 and edad <=64 :\n",
    "    print(\"Categoria Adulto\")\n",
    "\n",
    "else: \n",
    "    print(\"Adulto Mayor\")\n",
    "\n"
   ]
  },
  {
   "cell_type": "markdown",
   "metadata": {},
   "source": [
    "Dados tres números, verifica si forman un triángulo rectángulo (si se cumple el teorema de Pitágoras)."
   ]
  },
  {
   "cell_type": "code",
   "execution_count": null,
   "metadata": {},
   "outputs": [],
   "source": [
    "num1 = 5\n",
    "num2 = 8\n",
    "num3 = 20\n",
    "\n",
    "hipotenusa = \n",
    "\n"
   ]
  },
  {
   "cell_type": "markdown",
   "metadata": {},
   "source": [
    "\n",
    "\n",
    "\n",
    "\n",
    "\n",
    "Descripción: \n",
    "\n",
    "Asignar una calificación a una puntuación\n",
    "\n",
    "Descripción: Dada una puntuación, asigna una calificación según las siguientes condiciones: si la puntuación es mayor o igual a 90, la calificación es \"A\"; si es mayor o igual a 80, la calificación es \"B\"; si es mayor o igual a 70, la calificación es \"C\"; si es mayor o igual a 60, la calificación es \"D\"; de lo contrario, la calificación es \"F\".\n",
    "\n",
    "Calcular el índice de masa corporal (IMC) y categorizarlo\n",
    "\n",
    "Descripción: Dados el peso (en kg) y la altura (en metros) de una persona, calcula su IMC y categorízalo según las siguientes condiciones: si el IMC es menor a 18.5, es \"Bajo peso\"; si está entre 18.5 y 24.9 (inclusive), es \"Peso normal\"; si está entre 25 y 29.9 (inclusive), es \"Sobrepeso\"; de lo contrario, es \"Obesidad\".\n",
    "\n",
    "Calcular el mayor de tres números\n",
    "\n",
    "Descripción: Dados tres números, encuentra el mayor entre ellos.\n",
    "\n",
    "BONUS sentencias de control: Verificar la validez de una fecha\n",
    "\n",
    "Descripción: Dados el día, el mes y el año de una fecha, verifica si la fecha es válida.\n",
    "\n",
    "Ejercicios while\n",
    "Calcular la suma de los primeros 10 números naturales utilizando un bucle while\n",
    "\n",
    "Descripción: Utiliza un bucle while para calcular la suma de los primeros 10 números naturales (1 + 2 + 3 + ... + 10).\n",
    "\n",
    "Juego de adivinanza utilizando un bucle while\n",
    "\n",
    "Descripción: Crea un juego de adivinanza en el que el jugador tiene que adivinar un número secreto (tendrá que ser entre el 0 y el 10). Utiliza un bucle while para permitir múltiples intentos hasta que el jugador adivine correctamente."
   ]
  }
 ],
 "metadata": {
  "kernelspec": {
   "display_name": "base",
   "language": "python",
   "name": "python3"
  },
  "language_info": {
   "codemirror_mode": {
    "name": "ipython",
    "version": 3
   },
   "file_extension": ".py",
   "mimetype": "text/x-python",
   "name": "python",
   "nbconvert_exporter": "python",
   "pygments_lexer": "ipython3",
   "version": "3.12.4"
  }
 },
 "nbformat": 4,
 "nbformat_minor": 2
}
