{
 "cells": [
  {
   "cell_type": "markdown",
   "metadata": {},
   "source": [
    "Pair programming Sentencias de Control\n",
    "bucles for, list comprehension y try ..except"
   ]
  },
  {
   "cell_type": "markdown",
   "metadata": {},
   "source": [
    "Ejericios bucles for\n",
    "Imprimir los números del 1 al 5 utilizando un bucle for.\n",
    "\n",
    "Descripción: Utiliza un bucle for para imprimir los números del 1 al 5 (incluido) en orden ascendente."
   ]
  },
  {
   "cell_type": "code",
   "execution_count": 1,
   "metadata": {},
   "outputs": [
    {
     "name": "stdout",
     "output_type": "stream",
     "text": [
      "1\n",
      "2\n",
      "3\n",
      "4\n",
      "5\n"
     ]
    }
   ],
   "source": [
    "for i in range (1, 6):\n",
    "    print(i)"
   ]
  },
  {
   "cell_type": "markdown",
   "metadata": {},
   "source": [
    "Calcular la suma de los primeros 10 números naturales utilizando un bucle for.\n",
    "Descripción: Utiliza un bucle for para calcular la suma de los primeros 10 números naturales (1 + 2 + 3 + ... + 10)."
   ]
  },
  {
   "cell_type": "code",
   "execution_count": 2,
   "metadata": {},
   "outputs": [
    {
     "name": "stdout",
     "output_type": "stream",
     "text": [
      "55\n"
     ]
    }
   ],
   "source": [
    "\n",
    "suma = 0\n",
    "for x in range (1,11):\n",
    "    suma +=x\n",
    "\n",
    "print(suma)"
   ]
  },
  {
   "cell_type": "markdown",
   "metadata": {},
   "source": [
    "\n",
    "Calcular el producto de los elementos de una lista. \n",
    "Descripción: Dada una lista de números, utiliza un bucle for para calcular el producto de todos los elementos.\n"
   ]
  },
  {
   "cell_type": "code",
   "execution_count": 9,
   "metadata": {},
   "outputs": [
    {
     "name": "stdout",
     "output_type": "stream",
     "text": [
      "la suma que buscamos es 92\n",
      "anterior 2\n",
      "suma_productos 0\n",
      "anterior 4\n",
      "suma_productos 8\n",
      "anterior 6\n",
      "suma_productos 32\n",
      "anterior 10\n",
      "suma_productos 92\n"
     ]
    }
   ],
   "source": [
    "numeros = [2, 4, 6, 10]\n",
    "anterior = 0\n",
    "suma_productos = 0\n",
    "\n",
    "# lo que buscamos es 2*0 + 4*2 + 6*4 + 10*6  \n",
    "\n",
    "suma = 2*0 + 4*2 + 6*4 + 10*6 \n",
    "print(\"la suma que buscamos es\", suma)\n",
    "\n",
    "for numero in numeros:\n",
    "    producto = numero * anterior\n",
    "    # print(\"producto\", producto)\n",
    "    anterior = numero\n",
    "    print(\"anterior\", anterior)\n",
    "    suma_productos += producto \n",
    "    print(\"suma_productos\", suma_productos)\n",
    "\n",
    "    \n"
   ]
  },
  {
   "cell_type": "markdown",
   "metadata": {},
   "source": [
    "\n",
    "Imprimir los caracteres de una cadena de texto. \n",
    "Descripción: Dada una cadena de texto, utiliza un bucle for para imprimir cada carácter en una línea separada.\n"
   ]
  },
  {
   "cell_type": "code",
   "execution_count": 15,
   "metadata": {},
   "outputs": [
    {
     "name": "stdout",
     "output_type": "stream",
     "text": [
      "E\n",
      "l\n",
      " \n",
      "b\n",
      "a\n",
      "r\n",
      "q\n",
      "u\n",
      "i\n",
      "t\n",
      "o\n",
      " \n",
      "d\n",
      "e\n",
      " \n",
      "c\n",
      "a\n",
      "s\n",
      "c\n",
      "a\n",
      "r\n",
      "a\n"
     ]
    }
   ],
   "source": [
    "cadena = \"El barquito de cascara\"\n",
    "\n",
    "for caracter in cadena: \n",
    "    print(caracter)"
   ]
  },
  {
   "cell_type": "markdown",
   "metadata": {},
   "source": [
    "\n",
    "Imprimir los números pares del 1 al 100 utilizando un bucle for. \n",
    "Descripción: Utiliza un bucle for para imprimir los números pares del 1 al 100 en orden ascendente."
   ]
  },
  {
   "cell_type": "code",
   "execution_count": 16,
   "metadata": {},
   "outputs": [
    {
     "name": "stdout",
     "output_type": "stream",
     "text": [
      "2\n",
      "4\n",
      "6\n",
      "8\n",
      "10\n",
      "12\n",
      "14\n",
      "16\n",
      "18\n",
      "20\n",
      "22\n",
      "24\n",
      "26\n",
      "28\n",
      "30\n",
      "32\n",
      "34\n",
      "36\n",
      "38\n",
      "40\n",
      "42\n",
      "44\n",
      "46\n",
      "48\n",
      "50\n",
      "52\n",
      "54\n",
      "56\n",
      "58\n",
      "60\n",
      "62\n",
      "64\n",
      "66\n",
      "68\n",
      "70\n",
      "72\n",
      "74\n",
      "76\n",
      "78\n",
      "80\n",
      "82\n",
      "84\n",
      "86\n",
      "88\n",
      "90\n",
      "92\n",
      "94\n",
      "96\n",
      "98\n",
      "100\n"
     ]
    }
   ],
   "source": [
    "for x in range (1, 101):\n",
    "    if x%2==0:\n",
    "        print(x)\n",
    "    "
   ]
  },
  {
   "cell_type": "markdown",
   "metadata": {},
   "source": [
    "Imprimir los números primos del 1 al 50 utilizando un bucle for.\n",
    "\n",
    "NOTA: Según la Wikipedia, un número primo es un número natural mayor que 1 que no tiene divisores positivos más que 1 y él mismo."
   ]
  },
  {
   "cell_type": "code",
   "execution_count": 19,
   "metadata": {},
   "outputs": [
    {
     "name": "stdout",
     "output_type": "stream",
     "text": [
      "100\n",
      "98\n",
      "96\n",
      "94\n",
      "92\n",
      "90\n",
      "88\n",
      "86\n",
      "84\n",
      "82\n",
      "80\n",
      "78\n",
      "76\n",
      "74\n",
      "72\n",
      "70\n",
      "68\n",
      "66\n",
      "64\n",
      "62\n",
      "60\n",
      "58\n",
      "56\n",
      "54\n",
      "52\n",
      "50\n",
      "48\n",
      "46\n",
      "44\n",
      "42\n",
      "40\n",
      "38\n",
      "36\n",
      "34\n",
      "32\n",
      "30\n",
      "28\n",
      "26\n",
      "24\n",
      "22\n",
      "20\n",
      "18\n",
      "16\n",
      "14\n",
      "12\n",
      "10\n",
      "8\n",
      "6\n",
      "4\n",
      "2\n"
     ]
    }
   ],
   "source": [
    "# Dejamos este caramelito para después\n",
    "\n",
    "for x in range(1,51): \n",
    "    "
   ]
  },
  {
   "cell_type": "markdown",
   "metadata": {},
   "source": [
    "\n",
    "\n",
    "Calcular el factorial de un número utilizando un bucle for"
   ]
  },
  {
   "cell_type": "code",
   "execution_count": 24,
   "metadata": {},
   "outputs": [
    {
     "name": "stdout",
     "output_type": "stream",
     "text": [
      "x es 1\n",
      "producto es 1\n",
      "Tras multiplicar producto es 1\n",
      "x es 2\n",
      "producto es 1\n",
      "Tras multiplicar producto es 2\n",
      "x es 3\n",
      "producto es 2\n",
      "Tras multiplicar producto es 6\n",
      "x es 4\n",
      "producto es 6\n",
      "Tras multiplicar producto es 24\n",
      "x es 5\n",
      "producto es 24\n",
      "Tras multiplicar producto es 120\n"
     ]
    }
   ],
   "source": [
    "# El factorial de 5 es 5*4*3*2*1\n",
    "\n",
    "producto = 1\n",
    "\n",
    "for x in range (1, 6):\n",
    "    print(f\"x es {x}\")\n",
    "    print(f\"producto es {producto}\")\n",
    "    producto = producto *x\n",
    "    print(f\"Tras multiplicar producto es {producto}\")\n",
    "\n"
   ]
  },
  {
   "cell_type": "markdown",
   "metadata": {},
   "source": [
    "Juego de adivinar palabras utilizando un bucle for.\n",
    "\n",
    "Descripción: Crea un juego en el que el jugador debe adivinar una palabra secreta. El jugador tiene un número limitado de intentos y se le proporcionan pistas después de cada intento. Utiliza un bucle for para controlar los intentos del jugador."
   ]
  },
  {
   "cell_type": "code",
   "execution_count": 1,
   "metadata": {},
   "outputs": [
    {
     "name": "stdout",
     "output_type": "stream",
     "text": [
      "Acertaste. La palabra secreta era sol\n"
     ]
    }
   ],
   "source": [
    "palabra_clave = \"sol\" \n",
    "\n",
    "for i in range (3):\n",
    "    palabra = input(\"La palabra tiene 3 letras. Adivínala\") \n",
    "    if palabra == palabra_clave:\n",
    "        print(f\"Acertaste. La palabra secreta era {palabra_clave}\")\n",
    "        break\n",
    "    else: \n",
    "        print(f\"Fallaste. PISTA: La primera letra es {palabra_clave[i]}\")\n",
    "            "
   ]
  },
  {
   "cell_type": "markdown",
   "metadata": {},
   "source": [
    "Ejercicios _list comprehension_\n",
    "Generar una lista de los números pares del 1 al 20.\n",
    "\n",
    "Descripción: Utiliza list comprehension para generar una lista que contenga todos los números pares en el rango del 1 al 20."
   ]
  },
  {
   "cell_type": "code",
   "execution_count": 2,
   "metadata": {},
   "outputs": [
    {
     "name": "stdout",
     "output_type": "stream",
     "text": [
      "[0, 2, 4, 6, 8, 10, 12, 14, 16, 18, 20]\n"
     ]
    }
   ],
   "source": [
    "primeros20 = [num for num in range (0,21,2)]\n",
    "print(primeros20)"
   ]
  },
  {
   "cell_type": "markdown",
   "metadata": {},
   "source": [
    "Obtener una lista de las vocales en una cadena de texto.\n",
    "\n",
    "Descripción: Utiliza list comprehension para crear una lista que contenga todas las vocales presentes en una cadena de texto (sin repetición)."
   ]
  },
  {
   "cell_type": "code",
   "execution_count": 3,
   "metadata": {},
   "outputs": [
    {
     "name": "stdout",
     "output_type": "stream",
     "text": [
      "Las vocales que hay en nuestra cadena son: {'u', 'a', 'o', 'e'}\n"
     ]
    }
   ],
   "source": [
    "cadena = \"Estamos en un bootcamp de Python\"\n",
    "\n",
    "cadena_vocales = \"aeiou\"\n",
    "\n",
    "lista_todas_las_vocales = [letra for letra in cadena if letra in cadena_vocales]\n",
    "\n",
    "vocales = set(lista_todas_las_vocales)\n",
    "\n",
    "print(f\"Las vocales que hay en nuestra cadena son: {vocales}\")\n"
   ]
  },
  {
   "cell_type": "markdown",
   "metadata": {},
   "source": [
    "Filtrar los números positivos de una lista y calcular su cuadrado.\n",
    "\n",
    "Descripción: Utiliza list comprehension para filtrar los números positivos de una lista y calcular el cuadrado de cada uno."
   ]
  },
  {
   "cell_type": "code",
   "execution_count": 6,
   "metadata": {},
   "outputs": [
    {
     "name": "stdout",
     "output_type": "stream",
     "text": [
      "[-10, -9, -8, -7, -6, -5, -4, -3, -2, -1, 0, 1, 2, 3, 4, 5, 6, 7, 8, 9, 10, 11, 12, 13, 14]\n",
      "[1, 4, 9, 16, 25, 36, 49, 64, 81, 100, 121, 144, 169, 196]\n"
     ]
    }
   ],
   "source": [
    "numeros = list(range(-10, 15))\n",
    "print(numeros)\n",
    "\n",
    "lista_cuadrados_positivos = [num**2 for num in numeros if num >0]\n",
    "print(lista_cuadrados_positivos)"
   ]
  },
  {
   "cell_type": "markdown",
   "metadata": {},
   "source": [
    "Ejercicios try ...except\n",
    "Realizar una búsqueda en una lista y capturar una excepción en caso de valor no encontrado.\n",
    "\n",
    "Descripción: Solicita al usuario una lista de nombres y un nombre para buscar en la lista. Intenta encontrar el nombre en la lista y utiliza las sentencias try y except para capturar la excepción en caso de que el nombre no sea encontrado."
   ]
  },
  {
   "cell_type": "code",
   "execution_count": 8,
   "metadata": {},
   "outputs": [
    {
     "name": "stdout",
     "output_type": "stream",
     "text": [
      "lista nombres es [',']\n"
     ]
    }
   ],
   "source": [
    "entrada = input(\"Ingrese los nombres separados por coma\")\n",
    "palabra = input(\"¿Qué palabra quieres que busque?\")\n",
    "lista_nombres = \",\".split(entrada)\n",
    "\n",
    "print(f\"lista nombres es {lista_nombres}\")\n",
    "\n",
    "for nombre in lista_nombres:\n",
    "    try:\n",
    "        lista_nombres.index(nombre)\n",
    "    except: \n",
    "        print(\"Ese nombre no está en la lista\")\n"
   ]
  }
 ],
 "metadata": {
  "kernelspec": {
   "display_name": "base",
   "language": "python",
   "name": "python3"
  },
  "language_info": {
   "codemirror_mode": {
    "name": "ipython",
    "version": 3
   },
   "file_extension": ".py",
   "mimetype": "text/x-python",
   "name": "python",
   "nbconvert_exporter": "python",
   "pygments_lexer": "ipython3",
   "version": "3.12.4"
  }
 },
 "nbformat": 4,
 "nbformat_minor": 2
}
