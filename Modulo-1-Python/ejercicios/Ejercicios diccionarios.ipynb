{
 "cells": [
  {
   "cell_type": "markdown",
   "metadata": {},
   "source": [
    "# Ejercicios\n",
    "\n",
    "- Definir diccionarios"
   ]
  },
  {
   "cell_type": "markdown",
   "metadata": {},
   "source": [
    " 1. Crea el diccionario `festivos` con las fechas como claves y los nombres como valores: 01/01: Año Nuevo, 06/01: Epifanía del Señor, 15/04: Viernes Santo, 15/08: Asunción de la Virgen, 12/10: Fiesta Nacional de España, 01/11: Todos los Santos, 06/12: Día de la Constitución Española, y 08/12: Inmaculada Concepción."
   ]
  },
  {
   "cell_type": "code",
   "execution_count": 60,
   "metadata": {},
   "outputs": [
    {
     "name": "stdout",
     "output_type": "stream",
     "text": [
      "Las fechas con fiesta en España son: {'01/01': 'Año Nuevo', '06/01': 'Epifanía del Señor', '15/04': 'Viernes Santo', '15/08': 'Asunción de la Virgen', '12/10': 'Fiesta Nacional de España', '01/11': 'Todos los Santos', '06/12': 'Día de la Constitución Española', '08/12': 'Inmaculada Concepción'}\n"
     ]
    }
   ],
   "source": [
    "festivos = {'01/01': 'Año Nuevo', \n",
    "            '06/01': 'Epifanía del Señor', \n",
    "            '15/04': 'Viernes Santo', \n",
    "            '15/08': 'Asunción de la Virgen', \n",
    "            '12/10': 'Fiesta Nacional de España', \n",
    "            '01/11': 'Todos los Santos', \n",
    "            '06/12': 'Día de la Constitución Española', \n",
    "            '08/12': 'Inmaculada Concepción'} \n",
    "\n",
    "print(\"Las fechas con fiesta en España son:\", festivos)"
   ]
  },
  {
   "cell_type": "markdown",
   "metadata": {},
   "source": [
    "2. Crea el diccionario `monarcas` con los países como claves y los nombres como valores: Bélgica: Philippe, Dinamarca: Margrethe II, Holanda: Beatrix, Noruega: Harald V, España: Felipe VI, Reino Unido: Carlos III."
   ]
  },
  {
   "cell_type": "code",
   "execution_count": 6,
   "metadata": {},
   "outputs": [
    {
     "name": "stdout",
     "output_type": "stream",
     "text": [
      "Los reyes de Europa son: {'Bélgica': 'Philippe', 'Dinamarca': 'Margrethe II', 'Holanda': 'Beatrix', 'Noruega': 'Harald V', 'España': 'Felipe VI', 'Reino Unido': 'Carlos III'}\n",
      "Los reyes de Europa son: {'Bélgica': 'Philippe', 'Dinamarca': 'Margrethe II', 'Holanda': 'Beatrix', 'Noruega': 'Harald V', 'España': 'Felipe VI', 'Reino Unido': 'Carlos III'}\n"
     ]
    }
   ],
   "source": [
    "monarcas = {'Bélgica': 'Philippe', 'Dinamarca': 'Margrethe II', 'Holanda': 'Beatrix', 'Noruega': 'Harald V', 'España': 'Felipe VI', 'Reino Unido': 'Carlos III'}\n",
    "print(\"Los reyes de Europa son:\", monarcas)\n",
    "\n",
    "monarcas2 = dict(Bélgica= 'Philippe', Dinamarca= 'Margrethe II', Holanda= 'Beatrix', Noruega= 'Harald V', España= 'Felipe VI', ReinoUnido= 'Carlos III')\n",
    "print(\"Los reyes de Europa son:\", monarcas)"
   ]
  },
  {
   "cell_type": "markdown",
   "metadata": {},
   "source": [
    " Leer, añadir, y cambiar elementos"
   ]
  },
  {
   "cell_type": "markdown",
   "metadata": {},
   "source": [
    " 3. ¿Qué festivo hay el 15/04?"
   ]
  },
  {
   "cell_type": "code",
   "execution_count": 8,
   "metadata": {},
   "outputs": [
    {
     "name": "stdout",
     "output_type": "stream",
     "text": [
      "El 15 de abril no trabajo porque es: Viernes Santo\n"
     ]
    }
   ],
   "source": [
    "fiesta = festivos.get(\"15/04\")\n",
    "print(\"El 15 de abril no trabajo porque es:\", fiesta)"
   ]
  },
  {
   "cell_type": "code",
   "execution_count": null,
   "metadata": {},
   "outputs": [],
   "source": [
    "4. La reina `'Beatrix'` abdicó, ahora es el rey `'Willem-Alexander'`. Actualiza el dict."
   ]
  },
  {
   "cell_type": "code",
   "execution_count": 17,
   "metadata": {},
   "outputs": [
    {
     "name": "stdout",
     "output_type": "stream",
     "text": [
      "Antes de actualizar la lista, el monarca de Holanda era: Willem-Alexander\n",
      "Ahora que he actualizado la lista, el monarca de Holanda es: Willem-Alexander\n"
     ]
    }
   ],
   "source": [
    "print(\"Antes de actualizar la lista, el monarca de Holanda era:\", monarcas['Holanda'])\n",
    "monarcas['Holanda'] = 'Willem-Alexander'\n",
    "print(\"Ahora que he actualizado la lista, el monarca de Holanda es:\", monarcas['Holanda'])"
   ]
  },
  {
   "cell_type": "markdown",
   "metadata": {},
   "source": [
    " 5. El rey de Luxemburgo se llama `Henri`. Añadelo al dict usando `.update()`. "
   ]
  },
  {
   "cell_type": "code",
   "execution_count": 14,
   "metadata": {},
   "outputs": [
    {
     "name": "stdout",
     "output_type": "stream",
     "text": [
      "mi diccionario de reyes actualizado queda: {'Bélgica': 'Philippe', 'Dinamarca': 'Margrethe II', 'Holanda': 'Willem-Alexander', 'Noruega': 'Harald V', 'España': 'Felipe VI', 'Reino Unido': 'Carlos III', 'Luxemburgo': 'Henri'}\n"
     ]
    }
   ],
   "source": [
    "monarcas.update({\"Luxemburgo\": 'Henri'})\n",
    "print(\"mi diccionario de reyes actualizado queda:\", monarcas)"
   ]
  },
  {
   "cell_type": "markdown",
   "metadata": {},
   "source": [
    "- Comprobar contenidos"
   ]
  },
  {
   "cell_type": "markdown",
   "metadata": {},
   "source": [
    "6. ¿Cuántos países están definidos en `monarcas`?"
   ]
  },
  {
   "cell_type": "code",
   "execution_count": 15,
   "metadata": {},
   "outputs": [
    {
     "name": "stdout",
     "output_type": "stream",
     "text": [
      "En el diccionario tenemos un total de 7 países\n"
     ]
    }
   ],
   "source": [
    "print(f\"En el diccionario tenemos un total de {len(monarcas)} países\")"
   ]
  },
  {
   "cell_type": "markdown",
   "metadata": {},
   "source": [
    "7. ¿Es `'Monaco'` uno de ellos?"
   ]
  },
  {
   "cell_type": "code",
   "execution_count": 62,
   "metadata": {},
   "outputs": [
    {
     "name": "stdout",
     "output_type": "stream",
     "text": [
      "¿Está Mónaco en nuestra lista de reinos europeos? no existe\n",
      "¿Está Mónaco en nuestra lista de reinos europeos? False\n"
     ]
    }
   ],
   "source": [
    "respuesta1 = monarcas.get('Mónaco', 'no existe')\n",
    "print(\"¿Está Mónaco en nuestra lista de reinos europeos?\", respuesta1)\n",
    "\n",
    "\n",
    "#Mejor manera:\n",
    "\n",
    "respuesta2 = \"Mónaco\" in monarcas\n",
    "print(\"¿Está Mónaco en nuestra lista de reinos europeos?\", respuesta2)\n",
    "\n"
   ]
  },
  {
   "cell_type": "markdown",
   "metadata": {},
   "source": [
    "8. ¿Es verdad que nos olvidamos de poner `'Suecia'`? Compruébalo de una manera en que obtengas un `True` o `False`."
   ]
  },
  {
   "cell_type": "code",
   "execution_count": 63,
   "metadata": {},
   "outputs": [
    {
     "name": "stdout",
     "output_type": "stream",
     "text": [
      "¿Nos olvidamos de meter Suecia en nuestra lista? True\n",
      "¿Está España en nuestra lista? True\n",
      "¿Está Suecia en nuestra lista? True\n"
     ]
    }
   ],
   "source": [
    "respuesta_booleana1 = 'Suecia' not in monarcas \n",
    "print(\"¿Nos olvidamos de meter Suecia en nuestra lista?\", respuesta_booleana1)\n",
    "\n",
    "# Para asegurarnos de que funciona.\n",
    "\n",
    "respuesta_booleana2 = 'España' in monarcas\n",
    "print(\"¿Está España en nuestra lista?\", respuesta_booleana2)\n",
    "\n",
    "respuesta_booleana3 = 'España' in monarcas.keys() \n",
    "print(\"¿Está Suecia en nuestra lista?\", respuesta_booleana3)\n"
   ]
  },
  {
   "cell_type": "markdown",
   "metadata": {},
   "source": [
    "- Listar los contenidos"
   ]
  },
  {
   "cell_type": "markdown",
   "metadata": {},
   "source": [
    "9. Saca una **lista** de todos los países en el dict `monarcas`."
   ]
  },
  {
   "cell_type": "code",
   "execution_count": 64,
   "metadata": {},
   "outputs": [
    {
     "name": "stdout",
     "output_type": "stream",
     "text": [
      "dict_keys(['Bélgica', 'Dinamarca', 'Holanda', 'Noruega', 'España', 'Reino Unido', 'Luxemburgo'])\n",
      "<class 'dict_keys'>\n"
     ]
    }
   ],
   "source": [
    "paises = monarcas.keys()\n",
    "print(paises)\n",
    "print(type(paises))\n",
    "\n",
    "# Esto NO es una lista.\n",
    "\n",
    "lista_paises = list(monarcas.keys())\n",
    "\n",
    "# Esto SÍ es una lista."
   ]
  },
  {
   "cell_type": "markdown",
   "metadata": {},
   "source": [
    " 10. Saca una **lista** de los nombres de los festivos."
   ]
  },
  {
   "cell_type": "code",
   "execution_count": 68,
   "metadata": {},
   "outputs": [
    {
     "name": "stdout",
     "output_type": "stream",
     "text": [
      "Los nombres de los festivos son: dict_values(['Año Nuevo', 'Epifanía del Señor', 'Viernes Santo', 'Asunción de la Virgen', 'Fiesta Nacional de España', 'Todos los Santos', 'Día de la Constitución Española', 'Inmaculada Concepción'])\n",
      "<class 'dict_values'>\n",
      "Mi lista de nombres de festivos es: ['Año Nuevo', 'Epifanía del Señor', 'Viernes Santo', 'Asunción de la Virgen', 'Fiesta Nacional de España', 'Todos los Santos', 'Día de la Constitución Española', 'Inmaculada Concepción']\n"
     ]
    }
   ],
   "source": [
    "nombres_festivos = festivos.values()\n",
    "print(\"Los nombres de los festivos son:\", nombres_festivos)\n",
    "\n",
    "print(type(nombres_festivos))\n",
    "\n",
    "# Esto NO es una lista.\n",
    "\n",
    "lista_festivos = list(festivos.values())\n",
    "print(\"Mi lista de nombres de festivos es:\", lista_festivos)"
   ]
  },
  {
   "cell_type": "markdown",
   "metadata": {},
   "source": [
    "  11. Imprime el diccionario de festivos."
   ]
  },
  {
   "cell_type": "code",
   "execution_count": 42,
   "metadata": {},
   "outputs": [
    {
     "name": "stdout",
     "output_type": "stream",
     "text": [
      "El diccionario de festivos es: {'01/01': 'Año Nuevo', '06/01': 'Epifanía del Señor', '15/04': 'Viernes Santo', '15/08': 'Asunción de la Virgen', '12/10': 'Fiesta Nacional de España', '01/11': 'Todos los Santos', '06/12': 'Día de la Constitución Española', '08/12': 'Inmaculada Concepción'}\n"
     ]
    }
   ],
   "source": [
    "print(\"El diccionario de festivos es:\", festivos)"
   ]
  },
  {
   "cell_type": "markdown",
   "metadata": {},
   "source": [
    "  12. Imprime una **lista de tuplas** de todos los elementos que hay en festivos."
   ]
  },
  {
   "cell_type": "code",
   "execution_count": 71,
   "metadata": {},
   "outputs": [
    {
     "name": "stdout",
     "output_type": "stream",
     "text": [
      "La lista de tupla de festivos es: [('01/01', 'Año Nuevo'), ('06/01', 'Epifanía del Señor'), ('15/04', 'Viernes Santo'), ('15/08', 'Asunción de la Virgen'), ('12/10', 'Fiesta Nacional de España'), ('01/11', 'Todos los Santos'), ('06/12', 'Día de la Constitución Española'), ('08/12', 'Inmaculada Concepción')]\n"
     ]
    }
   ],
   "source": [
    "lista_tuplas_festivos = list(festivos.items())\n",
    "print(\"La lista de tupla de festivos es:\", lista_tuplas_festivos)"
   ]
  },
  {
   "cell_type": "markdown",
   "metadata": {},
   "source": [
    "Copiar dicts, y borrar elementos"
   ]
  },
  {
   "cell_type": "markdown",
   "metadata": {},
   "source": [
    "  13. Copia `monarcas` a `monarcas2010`."
   ]
  },
  {
   "cell_type": "code",
   "execution_count": 46,
   "metadata": {},
   "outputs": [
    {
     "name": "stdout",
     "output_type": "stream",
     "text": [
      "La copia de monarcas queda: monarcas2010 = {'Bélgica': 'Philippe', 'Dinamarca': 'Margrethe II', 'Holanda': 'Willem-Alexander', 'Noruega': 'Harald V', 'España': 'Felipe VI', 'Reino Unido': 'Carlos III', 'Luxemburgo': 'Henri'}\n"
     ]
    }
   ],
   "source": [
    "monarcas2010 = monarcas.copy()\n",
    "print(\"La copia de monarcas queda: monarcas2010 =\", monarcas2010)"
   ]
  },
  {
   "cell_type": "markdown",
   "metadata": {},
   "source": [
    "14. Quita España de `monarcas2010`."
   ]
  },
  {
   "cell_type": "code",
   "execution_count": 47,
   "metadata": {},
   "outputs": [
    {
     "name": "stdout",
     "output_type": "stream",
     "text": [
      "Tras el borrado de España, monarcas2010= {'Bélgica': 'Philippe', 'Dinamarca': 'Margrethe II', 'Holanda': 'Willem-Alexander', 'Noruega': 'Harald V', 'Reino Unido': 'Carlos III', 'Luxemburgo': 'Henri'}\n"
     ]
    }
   ],
   "source": [
    "monarcas2010.pop(\"España\")\n",
    "print(\"Tras el borrado de España, monarcas2010=\", monarcas2010)"
   ]
  },
  {
   "cell_type": "markdown",
   "metadata": {},
   "source": [
    "  15. Quita el último elemento de `monarcas2010`."
   ]
  },
  {
   "cell_type": "code",
   "execution_count": 49,
   "metadata": {},
   "outputs": [
    {
     "name": "stdout",
     "output_type": "stream",
     "text": [
      "Teóricamente, deberíamos haber perdido a Henri de Luxemburgo. monarcas2010= {'Bélgica': 'Philippe', 'Dinamarca': 'Margrethe II', 'Holanda': 'Willem-Alexander', 'Noruega': 'Harald V'}\n"
     ]
    }
   ],
   "source": [
    "monarcas2010.popitem()\n",
    "print(\"Teóricamente, deberíamos haber perdido a Henri de Luxemburgo. monarcas2010=\", monarcas2010)"
   ]
  },
  {
   "cell_type": "markdown",
   "metadata": {},
   "source": [
    "- Vaciar y borrar dicts"
   ]
  },
  {
   "cell_type": "markdown",
   "metadata": {},
   "source": [
    "16. Vacia el dict `monarcas2010`."
   ]
  },
  {
   "cell_type": "code",
   "execution_count": 50,
   "metadata": {},
   "outputs": [
    {
     "name": "stdout",
     "output_type": "stream",
     "text": [
      "Tras vaciar el diccionario monarcas2010 queda así: {}\n"
     ]
    }
   ],
   "source": [
    "monarcas2010.clear()\n",
    "print(\"Tras vaciar el diccionario monarcas2010 queda así:\", monarcas2010)"
   ]
  },
  {
   "cell_type": "markdown",
   "metadata": {},
   "source": [
    "- Obtener valores"
   ]
  },
  {
   "cell_type": "markdown",
   "metadata": {},
   "source": [
    "  17. ¿Qué festivo hay el 06/01?"
   ]
  },
  {
   "cell_type": "code",
   "execution_count": 55,
   "metadata": {},
   "outputs": [
    {
     "name": "stdout",
     "output_type": "stream",
     "text": [
      "El 6 de enero es la fiesta de: Epifanía del Señor\n"
     ]
    }
   ],
   "source": [
    "festivo1 = festivos.get('06/01')\n",
    "print(\"El 6 de enero es la fiesta de:\", festivo1)"
   ]
  },
  {
   "cell_type": "markdown",
   "metadata": {},
   "source": [
    "18. Obten el festivo que haya el 08/03, y en su defecto devuélve 'Día Internacional de la Mujer'."
   ]
  },
  {
   "cell_type": "code",
   "execution_count": 56,
   "metadata": {},
   "outputs": [
    {
     "name": "stdout",
     "output_type": "stream",
     "text": [
      "El 8 de marzo es la fiesta de: Día Internacional de la Mujer\n"
     ]
    }
   ],
   "source": [
    "festivo2 = festivos.get(\"08/03\", 'Día Internacional de la Mujer')\n",
    "print(\"El 8 de marzo es la fiesta de:\", festivo2)"
   ]
  },
  {
   "cell_type": "markdown",
   "metadata": {},
   "source": [
    "  19. Obten el festivo que haya el 31/11, y si no existe crea un par de clave-valor nuevo con el valor de 'Todos los Santos'."
   ]
  },
  {
   "cell_type": "code",
   "execution_count": 59,
   "metadata": {},
   "outputs": [
    {
     "name": "stdout",
     "output_type": "stream",
     "text": [
      "El 31 de noviembre es la fiesta de: Todos los Santos\n",
      "El diccionario de festivos queda: {'01/01': 'Año Nuevo', '06/01': 'Epifanía del Señor', '15/04': 'Viernes Santo', '15/08': 'Asunción de la Virgen', '12/10': 'Fiesta Nacional de España', '01/11': 'Todos los Santos', '06/12': 'Día de la Constitución Española', '08/12': 'Inmaculada Concepción', '31/11': 'Todos los Santos'}\n"
     ]
    }
   ],
   "source": [
    "\n",
    "festivo3 = festivos.setdefault('31/11', 'Todos los Santos')\n",
    "print(\"El 31 de noviembre es la fiesta de:\", festivo3)\n",
    "\n",
    "# Compruebo que ha ingresado el nuevo par en el diccionario de festivos\n",
    "\n",
    "print(\"El diccionario de festivos queda:\", festivos)\n",
    "\n"
   ]
  }
 ],
 "metadata": {
  "kernelspec": {
   "display_name": "base",
   "language": "python",
   "name": "python3"
  },
  "language_info": {
   "codemirror_mode": {
    "name": "ipython",
    "version": 3
   },
   "file_extension": ".py",
   "mimetype": "text/x-python",
   "name": "python",
   "nbconvert_exporter": "python",
   "pygments_lexer": "ipython3",
   "version": "3.12.4"
  }
 },
 "nbformat": 4,
 "nbformat_minor": 2
}
