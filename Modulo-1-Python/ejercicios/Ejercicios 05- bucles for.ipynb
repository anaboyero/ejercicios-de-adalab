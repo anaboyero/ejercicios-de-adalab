{
 "cells": [
  {
   "cell_type": "markdown",
   "metadata": {},
   "source": [
    "# Ejercicios\n",
    "\n",
    "1. Usando la siguiente lista: \n",
    "   \n",
    "    temperaturas = [2,45,67,23, 45,66,12,1,34,67,99,98,67,64, 44, 100]\n",
    "\n",
    "\n",
    "    Crea tres listas nuevas, donde: \n",
    "\n",
    "    - En la primera tengamos temperaturas entre 0 - 10, llama a la nueva lista `bajas_temp`.\n",
    "\n",
    "    - En la segunda tengamos temperaturas entre 11- 20, llama a la nueva lista `medias_temp`.\n",
    "\n",
    "    - En la tercera tengamos temperaturas por encima de 20, llama a la nueva lista `altas_temp`"
   ]
  },
  {
   "cell_type": "code",
   "execution_count": 5,
   "metadata": {},
   "outputs": [
    {
     "name": "stdout",
     "output_type": "stream",
     "text": [
      "La lista bajas_temp es [2, 1]\n",
      "La lista medias_temp es [12]\n",
      "La lista altas_temp es [45, 67, 23, 45, 66, 34, 67, 99, 98, 67, 64, 44, 100]\n"
     ]
    }
   ],
   "source": [
    "\n",
    "temperaturas = [2,45,67,23, 45,66,12,1,34,67,99,98,67,64, 44, 100]\n",
    "\n",
    "bajas_temp = []\n",
    "medias_temp = []\n",
    "altas_temp = []\n",
    "\n",
    "for t in temperaturas:\n",
    "    if 0 <= t < 10:\n",
    "        bajas_temp.append(t)\n",
    "    elif 11 <= t <= 20:\n",
    "        medias_temp.append(t)\n",
    "    else:\n",
    "        altas_temp.append(t)\n",
    "\n",
    "\n",
    "print(f\"La lista bajas_temp es {bajas_temp}\")\n",
    "print(f\"La lista medias_temp es {medias_temp}\")\n",
    "print(f\"La lista altas_temp es {altas_temp}\")\n",
    "\n"
   ]
  },
  {
   "cell_type": "markdown",
   "metadata": {},
   "source": [
    "    \n",
    "2. Las temperaturas están grados centígrados. Para cada una de las listas creadas en el ejercicio anterior, convertid las temperaturas a grados fahrenheit\n",
    "\n",
    "    # la relacion de grados celsius y fahrenheit es:      (C × 9 / 5) + 32 = F"
   ]
  },
  {
   "cell_type": "code",
   "execution_count": 8,
   "metadata": {},
   "outputs": [
    {
     "name": "stdout",
     "output_type": "stream",
     "text": [
      "bajas_temp_F es [35.6, 33.8]\n",
      "medias_temp es [53.6]\n",
      "altas_temp_F es [113.0, 152.6, 73.4, 113.0, 150.8, 93.2, 152.6, 210.2, 208.4, 152.6, 147.2, 111.2, 212.0]\n"
     ]
    }
   ],
   "source": [
    "bajas_temp_F = []\n",
    "\n",
    "for temp_C in bajas_temp:\n",
    "    temp_F = temp_C*(9/5)+32\n",
    "    temp_F = round(temp_F, 2)\n",
    "    bajas_temp_F.append(temp_F)\n",
    "\n",
    "print(f\"bajas_temp_F es {bajas_temp_F}\")\n",
    "\n",
    "medias_temp_F = []\n",
    "\n",
    "for temp_C in medias_temp:\n",
    "    temp_F = temp_C*(9/5)+32\n",
    "    temp_F = round(temp_F, 2)\n",
    "    medias_temp_F.append(temp_F)\n",
    "\n",
    "print(f\"medias_temp es {medias_temp_F}\")\n",
    "\n",
    "altas_temp_F = []\n",
    "\n",
    "for temp_C in altas_temp:\n",
    "    temp_F = temp_C*(9/5)+32\n",
    "    temp_F = round(temp_F, 2)\n",
    "    altas_temp_F.append(temp_F)\n",
    "\n",
    "print(f\"altas_temp_F es {altas_temp_F}\")\n"
   ]
  },
  {
   "cell_type": "markdown",
   "metadata": {},
   "source": [
    "3. Define e imprime un rango de 0 a 6 (excluido)."
   ]
  },
  {
   "cell_type": "code",
   "execution_count": 13,
   "metadata": {},
   "outputs": [
    {
     "name": "stdout",
     "output_type": "stream",
     "text": [
      "0\n",
      "1\n",
      "2\n",
      "3\n",
      "4\n",
      "5\n"
     ]
    }
   ],
   "source": [
    "for x in range(6):\n",
    "    print (x)"
   ]
  },
  {
   "cell_type": "markdown",
   "metadata": {},
   "source": [
    "4. Define e imprime un rango de 3 a 6 ambos incluidos."
   ]
  },
  {
   "cell_type": "code",
   "execution_count": 14,
   "metadata": {},
   "outputs": [
    {
     "name": "stdout",
     "output_type": "stream",
     "text": [
      "3\n",
      "4\n",
      "5\n",
      "6\n"
     ]
    }
   ],
   "source": [
    "for x in range(3, 7):\n",
    "    print(x)"
   ]
  },
  {
   "cell_type": "markdown",
   "metadata": {},
   "source": [
    "5. Define e imprime un rango de 5 a 9 ambos excluidos."
   ]
  },
  {
   "cell_type": "code",
   "execution_count": 15,
   "metadata": {},
   "outputs": [
    {
     "name": "stdout",
     "output_type": "stream",
     "text": [
      "6\n",
      "7\n",
      "8\n"
     ]
    }
   ],
   "source": [
    "for x in range (6, 9):\n",
    "    print(x)"
   ]
  },
  {
   "cell_type": "markdown",
   "metadata": {},
   "source": [
    "6. Define e imprime un rango de 3 números que empiece en 2.\n",
    "\n"
   ]
  },
  {
   "cell_type": "code",
   "execution_count": 16,
   "metadata": {},
   "outputs": [
    {
     "name": "stdout",
     "output_type": "stream",
     "text": [
      "2\n",
      "3\n",
      "4\n"
     ]
    }
   ],
   "source": [
    "for x in range(2, 5):\n",
    "    print(x)"
   ]
  },
  {
   "cell_type": "markdown",
   "metadata": {},
   "source": [
    "7. Define e imprime un rango que empiece en 2, aumentando cada paso por 3, que pare antes de llegar al número 13."
   ]
  },
  {
   "cell_type": "code",
   "execution_count": 17,
   "metadata": {},
   "outputs": [
    {
     "name": "stdout",
     "output_type": "stream",
     "text": [
      "2\n",
      "5\n",
      "8\n",
      "11\n"
     ]
    }
   ],
   "source": [
    "for x in range(2, 13, 3):\n",
    "    print(x)"
   ]
  },
  {
   "cell_type": "markdown",
   "metadata": {},
   "source": [
    "8. Define e imprime un rango con todos los valores impares que hay hasta 10."
   ]
  },
  {
   "cell_type": "code",
   "execution_count": 25,
   "metadata": {},
   "outputs": [
    {
     "name": "stdout",
     "output_type": "stream",
     "text": [
      "0\n",
      "2\n",
      "4\n",
      "6\n",
      "8\n"
     ]
    }
   ],
   "source": [
    "for x in range(0, 10, 2):\n",
    "    print(x)"
   ]
  },
  {
   "cell_type": "markdown",
   "metadata": {},
   "source": [
    "9. Crea una lista nueva donde tengamos los números de la lista `temperaturas` elevados al cuadrado. "
   ]
  },
  {
   "cell_type": "code",
   "execution_count": 32,
   "metadata": {},
   "outputs": [
    {
     "name": "stdout",
     "output_type": "stream",
     "text": [
      "Las temperaturas al cuadrado son: [4, 2025, 4489, 529, 2025, 4356, 144, 1, 1156, 4489, 9801, 9604, 4489, 4096, 1936, 10000]\n"
     ]
    }
   ],
   "source": [
    "temperaturas = [2, 45, 67, 23, 45, 66, 12, 1, 34, 67, 99, 98, 67, 64, 44, 100]\n",
    "\n",
    "temperaturas_cuadrado = [t**2 for t in temperaturas]\n",
    "\n",
    "print(f\"Las temperaturas al cuadrado son: {temperaturas_cuadrado}\")\n",
    "\n"
   ]
  },
  {
   "cell_type": "markdown",
   "metadata": {},
   "source": [
    "10. Crea una lista nueva donde tengamos el resto de la división de cada uno de los números entre 2.  "
   ]
  },
  {
   "cell_type": "code",
   "execution_count": 37,
   "metadata": {},
   "outputs": [
    {
     "name": "stdout",
     "output_type": "stream",
     "text": [
      "2%2= 0\n",
      "Los restos de la división por dos son :[0, 1, 1, 1, 1, 0, 0, 1, 0, 1, 1, 0, 1, 0, 0, 0]\n"
     ]
    }
   ],
   "source": [
    "restos_division = [t%2 for t in temperaturas]\n",
    "print(f\"Los restos de la división por dos son :{restos_division}\")"
   ]
  },
  {
   "cell_type": "markdown",
   "metadata": {},
   "source": [
    "11. Crea una lista nueva donde tengamos solo los elementos pares de la lista `temperaturas`. "
   ]
  },
  {
   "cell_type": "code",
   "execution_count": 38,
   "metadata": {},
   "outputs": [
    {
     "name": "stdout",
     "output_type": "stream",
     "text": [
      "Las temperaturas pares de la lista son: [2, 66, 12, 34, 98, 64, 44, 100]\n"
     ]
    }
   ],
   "source": [
    "temperaturas = [2, 45, 67, 23, 45, 66, 12, 1, 34, 67, 99, 98, 67, 64, 44, 100]\n",
    "temperaturas_pares = [t for t in temperaturas if t%2==0]\n",
    "print(f\"Las temperaturas pares de la lista son: {temperaturas_pares}\")"
   ]
  },
  {
   "cell_type": "markdown",
   "metadata": {},
   "source": [
    "12. Crea una lista nueva donde tengamos solo los elementos que sean menores que 50. "
   ]
  },
  {
   "cell_type": "code",
   "execution_count": 39,
   "metadata": {},
   "outputs": [
    {
     "name": "stdout",
     "output_type": "stream",
     "text": [
      "[2, 45, 23, 45, 12, 1, 34, 44]\n"
     ]
    }
   ],
   "source": [
    "temperaturas = [2, 45, 67, 23, 45, 66, 12, 1, 34, 67, 99, 98, 67, 64, 44, 100]\n",
    "\n",
    "temp_menos_de_50 = [t for t in temperaturas if t<50]\n",
    "\n",
    "print(temp_menos_de_50)"
   ]
  },
  {
   "cell_type": "markdown",
   "metadata": {},
   "source": [
    "13. Crea una lista donde tengamos los valores \"par\" e \"impar\" en función de los valores de la lista original. La lista resultante tiene que ser como la que indicamos a continuación: \n",
    "\n",
    "    lista_strings = [\"par\",\"impar\",\"impar\",\"impar\", \"impar\",\"par\",\"par\",\"impar\",\"par\",\"impar\",\"impar\",\"par\",\"impar\",\"par\", \"par\", \"par\"]"
   ]
  },
  {
   "cell_type": "code",
   "execution_count": 42,
   "metadata": {},
   "outputs": [
    {
     "name": "stdout",
     "output_type": "stream",
     "text": [
      "Las temperaturas clasificadas por pares e impares son: ['par', 'impar', 'impar', 'impar', 'impar', 'par', 'par', 'impar', 'par', 'impar', 'impar', 'par', 'impar', 'par', 'par', 'par']\n"
     ]
    }
   ],
   "source": [
    "temperaturas = [2, 45, 67, 23, 45, 66, 12, 1, 34, 67, 99, 98, 67, 64, 44, 100]\n",
    "pares_e_impares = [\"par\" if t%2==0 else \"impar\" for t in temperaturas]\n",
    "print(f\"Las temperaturas clasificadas por pares e impares son: {pares_e_impares}\")\n"
   ]
  },
  {
   "cell_type": "markdown",
   "metadata": {},
   "source": [
    "14. Pide al usuario un número entero positivo y suma los números pares e impares por separado hasta ese número."
   ]
  },
  {
   "cell_type": "code",
   "execution_count": 48,
   "metadata": {},
   "outputs": [
    {
     "name": "stdout",
     "output_type": "stream",
     "text": [
      "La suma de los pares es 6. La suma de los impares es 4\n",
      "La suma de los pares es 6. La suma de los impares es 4\n"
     ]
    }
   ],
   "source": [
    "numero_usuario = int(input(\"Introduce un número entero positivo\"))\n",
    "\n",
    "suma_pares = 0\n",
    "suma_impares = 0\n",
    "\n",
    "for i in range(numero_usuario):\n",
    "    if i%2==0:\n",
    "        suma_pares += i\n",
    "    else:\n",
    "        suma_impares += i\n",
    "\n",
    "print(f\"La suma de los pares es {suma_pares}. La suma de los impares es {suma_impares}\")\n",
    "\n",
    "\n",
    "# Otra manera sería:\n",
    "\n",
    "suma_pares = 0\n",
    "suma_impares = 0\n",
    "\n",
    "for x in range(0, numero_usuario, 2):\n",
    "        suma_pares += x\n",
    "\n",
    "for y in range(1, numero_usuario, 2):\n",
    "        suma_impares += y\n",
    "\n",
    "\n",
    "print(f\"La suma de los pares es {suma_pares}. La suma de los impares es {suma_impares}\")\n",
    "\n",
    "\n",
    "    "
   ]
  },
  {
   "cell_type": "markdown",
   "metadata": {},
   "source": [
    "15. Pide al usuario ingresar una cadena y cuenta cuántas veces aparece cada vocal (a, e, i, o, u) en la cadena."
   ]
  },
  {
   "cell_type": "code",
   "execution_count": 55,
   "metadata": {},
   "outputs": [
    {
     "name": "stdout",
     "output_type": "stream",
     "text": [
      "Este es el conteo de vocales en la cadena 'el patio de mi casa es particular'\n",
      "{'a': 5, 'e': 3, 'i': 3, 'o': 1, 'u': 1}\n"
     ]
    }
   ],
   "source": [
    "cadena = input(\"Ingrese una frase\").lower()\n",
    "vocales = ('a', 'e', 'i', 'o', 'u')\n",
    "diccionario_vocales = {'a': 0, 'e': 0, 'i': 0, 'o': 0, 'u': 0}\n",
    "\n",
    "\n",
    "for letra in cadena:\n",
    "    if letra in diccionario_vocales: #si la letra de la cadena está en las claves del diccionario, o sea es una vocal\n",
    "        diccionario_vocales[letra] += 1 # incremento el valor de dicha vocal en el diccionario\n",
    "\n",
    "print(f\"Este es el conteo de vocales en la cadena '{cadena}'\\n{diccionario_vocales}\")"
   ]
  }
 ],
 "metadata": {
  "kernelspec": {
   "display_name": "base",
   "language": "python",
   "name": "python3"
  },
  "language_info": {
   "codemirror_mode": {
    "name": "ipython",
    "version": 3
   },
   "file_extension": ".py",
   "mimetype": "text/x-python",
   "name": "python",
   "nbconvert_exporter": "python",
   "pygments_lexer": "ipython3",
   "version": "3.12.4"
  }
 },
 "nbformat": 4,
 "nbformat_minor": 2
}
