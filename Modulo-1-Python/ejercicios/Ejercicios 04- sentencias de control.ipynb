{
 "cells": [
  {
   "cell_type": "markdown",
   "metadata": {},
   "source": [
    "\n",
    "# Ejercicios  \n",
    "\n",
    "1. Crea las siguientes variables:\n",
    "\n",
    "  - `var1` sea un número con el valor `8`.\n",
    "\n",
    "  - `var2` sea un número con el valor `2`.\n",
    "\n",
    "  - `var3` sea un número con el valor `8`."
   ]
  },
  {
   "cell_type": "code",
   "execution_count": 1,
   "metadata": {},
   "outputs": [],
   "source": [
    "var1 = 8\n",
    "var2 = 2\n",
    "var3 = 8\n"
   ]
  },
  {
   "cell_type": "markdown",
   "metadata": {},
   "source": [
    "2. Comprueba si `var1` es mayor que 6, y si es así imprime `¡Es enorme!`."
   ]
  },
  {
   "cell_type": "code",
   "execution_count": 2,
   "metadata": {},
   "outputs": [
    {
     "name": "stdout",
     "output_type": "stream",
     "text": [
      "¡Es enorme!\n"
     ]
    }
   ],
   "source": [
    "if var1 > 6:\n",
    "    print(\"¡Es enorme!\")"
   ]
  },
  {
   "cell_type": "markdown",
   "metadata": {},
   "source": [
    "3. Comprueba si `var2` es mayor que 6, y si es así imprime `¡Es enorme también!`."
   ]
  },
  {
   "cell_type": "code",
   "execution_count": 4,
   "metadata": {},
   "outputs": [],
   "source": [
    "if var2 > 6:\n",
    "    print(\"¡Es enorme también!\")"
   ]
  },
  {
   "cell_type": "markdown",
   "metadata": {},
   "source": [
    "4. Comprueba si `var3` es mayor que 6, y si es así imprime `¡Es enorme!` seguido por `¡Pero de verdad!` en otra línea (deberéis tener dos *print*)."
   ]
  },
  {
   "cell_type": "code",
   "execution_count": 5,
   "metadata": {},
   "outputs": [
    {
     "name": "stdout",
     "output_type": "stream",
     "text": [
      "¡Es enorme!\n",
      "¡Pero de verdad!\n"
     ]
    }
   ],
   "source": [
    "if var3 > 6:\n",
    "    print(\"¡Es enorme!\")\n",
    "    print(\"¡Pero de verdad!\")"
   ]
  },
  {
   "cell_type": "markdown",
   "metadata": {},
   "source": [
    "5. Comprueba si `var1` es igual que `var3`, y si es así imprime `Son iguales.`."
   ]
  },
  {
   "cell_type": "code",
   "execution_count": 6,
   "metadata": {},
   "outputs": [
    {
     "name": "stdout",
     "output_type": "stream",
     "text": [
      "Son iguales.\n"
     ]
    }
   ],
   "source": [
    "if var1 == var3:\n",
    "    print(\"Son iguales.\")\n"
   ]
  },
  {
   "cell_type": "markdown",
   "metadata": {},
   "source": [
    "6. Comprueba si `var1` es igual que `var2`, y si es así imprime `Son iguales.`"
   ]
  },
  {
   "cell_type": "code",
   "execution_count": 7,
   "metadata": {},
   "outputs": [],
   "source": [
    "if var1 == var2:\n",
    "    print(\"Son iguales.\")\n"
   ]
  },
  {
   "cell_type": "markdown",
   "metadata": {},
   "source": [
    "7. Comprueba si `var1` es mayor o igual que `var2`, y si es así calcula la diferencia entre `var1` y `var2`, guardala en la variable `dif`, e imprime `'La diferencia es',dif`. "
   ]
  },
  {
   "cell_type": "code",
   "execution_count": 8,
   "metadata": {},
   "outputs": [
    {
     "name": "stdout",
     "output_type": "stream",
     "text": [
      "la diferencia es 6\n"
     ]
    }
   ],
   "source": [
    "if var1 >= var2:\n",
    "    dif =var1 - var2\n",
    "    print(\"la diferencia es\", dif)\n"
   ]
  },
  {
   "cell_type": "markdown",
   "metadata": {},
   "source": [
    "8. Comprueba si `var1` es mayor que 6, y si es así imprime `¡Es enorme!`. Si no es así imprime `Es chiquitín.`."
   ]
  },
  {
   "cell_type": "code",
   "execution_count": 9,
   "metadata": {},
   "outputs": [
    {
     "name": "stdout",
     "output_type": "stream",
     "text": [
      "¡Es enorme!\n"
     ]
    }
   ],
   "source": [
    "if var1 > 6:\n",
    "    print(\"¡Es enorme!\")\n",
    "else:\n",
    "    print(\"Es chiquitín.\")"
   ]
  },
  {
   "cell_type": "markdown",
   "metadata": {},
   "source": [
    "9. Comprueba si `var2` es mayor que 6, y si es así imprime `¡Es enorme también!`. Si no es así imprime `Es chiquitín también.`."
   ]
  },
  {
   "cell_type": "code",
   "execution_count": 10,
   "metadata": {},
   "outputs": [
    {
     "name": "stdout",
     "output_type": "stream",
     "text": [
      "Es chiquitín.\n"
     ]
    }
   ],
   "source": [
    "if var2 > 6:\n",
    "    print(\"¡Es enorme!\")\n",
    "else:\n",
    "    print(\"Es chiquitín.\")"
   ]
  },
  {
   "cell_type": "markdown",
   "metadata": {},
   "source": [
    "10. Comprueba si `var1` es igual a `var3`, y si es así imprime `Son iguales.` Si no es así imprime `Son distintos.`"
   ]
  },
  {
   "cell_type": "code",
   "execution_count": 11,
   "metadata": {},
   "outputs": [
    {
     "name": "stdout",
     "output_type": "stream",
     "text": [
      "Son iguales.\n"
     ]
    }
   ],
   "source": [
    "if var1 == var3:\n",
    "    print(\"Son iguales.\")\n",
    "else:\n",
    "    print(\"Son distintos.\")    "
   ]
  },
  {
   "cell_type": "markdown",
   "metadata": {},
   "source": [
    "11. Escribe un programa para una empresa que tiene salas de juegos para todas las edades y quiere calcular de forma automática el precio que debe cobrar a sus clientes por entrar. El programa debe preguntar al usuario:\n",
    "\n",
    "    - La edad del cliente. \n",
    "    - Las condiciones que tendremos que chequear: \n",
    "\n",
    "      - Si el cliente es menor de 4 años puede entrar gratis, \n",
    "\n",
    "      - Si tiene entre 4 y 18 años debe pagar 5€ y \n",
    "\n",
    "      - Si es mayor de 18 años, 10€."
   ]
  },
  {
   "cell_type": "code",
   "execution_count": 17,
   "metadata": {},
   "outputs": [
    {
     "name": "stdout",
     "output_type": "stream",
     "text": [
      "Eres menor o tienes 18 años. Pagas 5 euros\n"
     ]
    }
   ],
   "source": [
    "edad_cliente= int(input(\"¿Cuántos años tienes?\"))\n",
    "if edad_cliente > 18:\n",
    "    precio_entrada = 10\n",
    "    print(f\"Eres adulto. Pagas {precio_entrada} euros\")\n",
    "elif edad_cliente >= 4:\n",
    "    precio_entrada = 5\n",
    "    print(f\"Eres menor o tienes 18 años. Pagas {precio_entrada} euros\")\n",
    "else:\n",
    "    precio_entrada = 0\n",
    "    print(f\"Eres tan pequeño que seguramente no puedas leer esto. Pagas {precio_entrada} euros\")\n",
    "                  "
   ]
  },
  {
   "cell_type": "markdown",
   "metadata": {},
   "source": [
    "12. Inicia la varible `ahorros` con un valor de `5`. Crea un bucle while que mientras los ahorros sean igual o menor que `20` imprima por pantalla la cantidad de ahorros que tenemos, y añádele `5` más. Cuando la variable ahorros supere el valor de 20 el bucle deberá parar. "
   ]
  },
  {
   "cell_type": "code",
   "execution_count": 18,
   "metadata": {},
   "outputs": [
    {
     "name": "stdout",
     "output_type": "stream",
     "text": [
      "Tengo en la hucha 5 euros\n",
      "Tengo en la hucha 10 euros\n",
      "Tengo en la hucha 15 euros\n",
      "Tengo en la hucha 20 euros\n"
     ]
    }
   ],
   "source": [
    "ahorros = 5\n",
    "\n",
    "while ahorros <= 20:\n",
    "    print(f\"Tengo en la hucha {ahorros} euros\")\n",
    "    ahorros += 5"
   ]
  },
  {
   "cell_type": "markdown",
   "metadata": {},
   "source": [
    "13. Escribe un programa que convierta grados Celsius a grados Fahrenheit o viceversa, según la elección del usuario. Para eso tendrás que preguntar: \n",
    "\n",
    "  - Desde que unidades va a convertir la temperatura, Celsius o Fahrenheit. \n",
    "\n",
    "  - Cuál es valor de la temperatura que quiere convertir. "
   ]
  },
  {
   "cell_type": "code",
   "execution_count": 41,
   "metadata": {},
   "outputs": [
    {
     "name": "stdout",
     "output_type": "stream",
     "text": [
      "Esa no es una unidad válida\n",
      "Esa no es una unidad válida\n",
      "Esa no es una unidad válida\n",
      "Esa no es una unidad válida\n",
      "Has escrito 95 grados Fahrenheit\n",
      "El resultado de tu conversión es: 35.0 grados centígrados\n"
     ]
    }
   ],
   "source": [
    "# Fahrenheit a Celsius:\n",
    "# (°F - 32) x 5/9 = °C\n",
    "\n",
    "# Celsius a Fahrenheit\n",
    "# (°C x 9/5) + 32 =°F\n",
    "\n",
    "base_grados = input(\"¿Desde que unidades va a convertir la temperatura, Celsius o Fahrenheit? Escribe 'C' o 'F'\")\n",
    "base_grados = base_grados.upper()\n",
    "\n",
    "while (base_grados != 'C' and base_grados != 'F'):\n",
    "    print(\"Esa no es una unidad válida\")\n",
    "    base_grados = input(\"¿Desde que unidades vas a convertir la temperatura, Celsius o Fahrenheit? 'C' o 'F'\")\n",
    "    base_grados = base_grados.upper()\n",
    "\n",
    "# Si llego aquí es porque el usuario ha escrito una opción correcta y ha salido del bucle.\n",
    "\n",
    "grados = int(input(\"Escriba la cantidad de grados que quiere convertir\"))\n",
    "\n",
    "if base_grados == 'C':\n",
    "    base_origen = \"centígrados\"\n",
    "    base_destino = \"Fahrenheit\"\n",
    "    resultado = round((grados*9/5) + 32, 2)\n",
    "\n",
    "else:\n",
    "    base_origen = \"Fahrenheit\"\n",
    "    base_destino = \"centígrados\"\n",
    "    resultado = round((grados -32)*5/9, 2)\n",
    "\n",
    "print(f\"Has escrito {grados} grados {base_origen}\")\n",
    "print(f\"El resultado de tu conversión es: {resultado} grados {base_destino}\")\n",
    "\n"
   ]
  },
  {
   "cell_type": "markdown",
   "metadata": {},
   "source": [
    "14.  Crea un programa que calcule el impuesto sobre la renta de una persona basado en su ingreso anual y su estado civil (soltero o casado). Para eso deberás: \n",
    "\n",
    "  - Solicitar al usuario su ingreso anual.\n",
    "\n",
    "  - Preguntar al usuario su estado civil, permitiendo dos opciones: \"soltero\" (S) o \"casado\" (C).\n",
    "\n",
    "  - Calcular el impuesto sobre la renta utilizando las siguientes reglas:\n",
    "\n",
    "    - Si el estado civil es \"soltero\" (S):\n",
    "\n",
    "      - Si el ingreso anual es menor o igual a $9,875, el impuesto es el 10% del ingreso anual.\n",
    "\n",
    "      - Si el ingreso anual está entre $9,876 y $40,125, el impuesto es el 10% de los primeros $9,875 más el 12% de la cantidad que excede los $9,875.\n",
    "     \n",
    "\n",
    "    - Si el estado civil es \"casado\" (C):\n",
    "    \n",
    "      - Si el ingreso anual es menor o igual a $19,850, el impuesto es el 10% del ingreso anual.\n",
    "\n",
    "      - Si el ingreso anual está entre $19,851 y $80,250, el impuesto es el 10% de los primeros $19,850 más el 12% de la cantidad que excede los $19,850."
   ]
  },
  {
   "cell_type": "code",
   "execution_count": 52,
   "metadata": {},
   "outputs": [
    {
     "name": "stdout",
     "output_type": "stream",
     "text": [
      "Tu impuesto sobre la renta es: 2003.0\n"
     ]
    }
   ],
   "source": [
    "ingreso_anual = int(input(\"Escriba su ingreso anual\"))\n",
    "estado_civil = input(\"Escriba su estado civil: soltero (S) o casado (C)?\")\n",
    "estado_civil=estado_civil.upper()\n",
    "LIMITE_SOLTERO = 9875\n",
    "LIMITE_CASADO = 19850\n",
    "\n",
    "if estado_civil=='S':\n",
    "    if ingreso_anual <= LIMITE_SOLTERO:\n",
    "        impuesto = ingreso_anual*0.1\n",
    "    else:\n",
    "        diferencia = ingreso_anual - LIMITE_SOLTERO\n",
    "        impuesto = LIMITE_SOLTERO*0.1 + diferencia*0.12  \n",
    "    print(f\"Tu impuesto sobre la renta es: {impuesto} \")\n",
    "\n",
    "elif estado_civil=='C':\n",
    "    if ingreso_anual <= LIMITE_CASADO:\n",
    "        impuesto = ingreso_anual*0.1\n",
    "    else:\n",
    "        diferencia = ingreso_anual - LIMITE_CASADO\n",
    "        impuesto = LIMITE_CASADO*0.1 + diferencia*0.12  \n",
    "    print(f\"Tu impuesto sobre la renta es: {impuesto}\")\n",
    "\n",
    "else:\n",
    "    print(\"No has introducido los datos correctamente\")\n",
    "\n"
   ]
  },
  {
   "cell_type": "markdown",
   "metadata": {},
   "source": [
    "\n",
    "\n",
    "15. Crea un programa que evalúe el nivel de contaminación del aire en función de la concentración de partículas en suspensión (PM2.5) en microgramos por metro cúbico (µg/m³). Para eso deberás: \n",
    "\n",
    "  - Solicita al usuario que ingrese la concentración de PM2.5 en el aire en µg/m³. El usuario debe ingresar un valor numérico.\n",
    "\n",
    "  - Evalua el nivel de contaminación del aire según la siguiente escala:\n",
    "\n",
    "    - Si la concentración de PM2.5 es menor o igual a 12 µg/m³, el aire se considera \"Excelente\".\n",
    "\n",
    "    - Si la concentración de PM2.5 está entre 13 µg/m³ y 35 µg/m³, el aire se considera \"Bueno\".\n",
    "\n",
    "    - Si la concentración de PM2.5 está entre 36 µg/m³ y 55 µg/m³, el aire se considera \"Aceptable\".\n",
    "\n",
    "    - Si la concentración de PM2.5 está entre 56 µg/m³ y 150 µg/m³, el aire se considera \"No Saludable para Grupos Sensibles\".\n",
    "\n",
    "    - Si la concentración de PM2.5 es mayor a 150 µg/m³, el aire se considera \"No Saludable\".\n",
    "\n",
    "  - Muestra un mensaje indicando el estado de la calidad del aire. Por ejemplo, si la concentración de PM2.5 es 25 µg/m³, el programa debe mostrar: \"La calidad del aire es Buena\".\n",
    "\n",
    "  -  Además, si la concentración de PM2.5 está en la categoría \"No Saludable para Grupos Sensibles\" o \"No Saludable\", el programa debe advertir al usuario sobre los posibles efectos en la salud.\n",
    "\n",
    "  - Si la concentración ingresada por el usuario es negativa o no es un número válido, el programa debe mostrar un mensaje de error."
   ]
  },
  {
   "cell_type": "code",
   "execution_count": 62,
   "metadata": {},
   "outputs": [
    {
     "name": "stdout",
     "output_type": "stream",
     "text": [
      "Error: la concentración debe ser positiva\n"
     ]
    }
   ],
   "source": [
    "concentracion = int(input(\"Ingrese la concentración de PM2.5 en el aire en µg/m³\"))\n",
    "advertencia = False\n",
    "\n",
    "if concentracion <0 :\n",
    "    print(\"Error: la concentración debe ser positiva\")\n",
    "else:\n",
    "    if concentracion <=12:\n",
    "        calidad = \"Excelente\"\n",
    "    elif concentracion <= 35:\n",
    "        calidad = \"Bueno\"\n",
    "    elif concentracion <= 55:\n",
    "        calidad = \"Aceptable\"\n",
    "    elif concentracion < 150:\n",
    "        calidad = \"No Saludable para Grupos Sensibles\"\n",
    "        advertencia = True\n",
    "    elif concentracion > 150:\n",
    "        calidad = \"No Saludable\"\n",
    "        advertencia = True\n",
    "    \n",
    "    print(f\"Ha ingresado una concentración de {concentracion} partículas en suspensión en microgramos por metro cúbico (µg/m³)\")\n",
    "    print(f\"La calidad del aire es: {calidad}\")\n",
    "    if advertencia:\n",
    "        print(\"AVISO: La calidad indicada de aire puede tener efectos negativos para su salud\")\n",
    "\n",
    "\n",
    "\n"
   ]
  }
 ],
 "metadata": {
  "kernelspec": {
   "display_name": "base",
   "language": "python",
   "name": "python3"
  },
  "language_info": {
   "codemirror_mode": {
    "name": "ipython",
    "version": 3
   },
   "file_extension": ".py",
   "mimetype": "text/x-python",
   "name": "python",
   "nbconvert_exporter": "python",
   "pygments_lexer": "ipython3",
   "version": "3.12.4"
  }
 },
 "nbformat": 4,
 "nbformat_minor": 2
}
