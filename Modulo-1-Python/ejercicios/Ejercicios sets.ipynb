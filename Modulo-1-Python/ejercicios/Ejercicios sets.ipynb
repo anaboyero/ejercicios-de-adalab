{
 "cells": [
  {
   "cell_type": "markdown",
   "metadata": {},
   "source": [
    "# Ejercicios:"
   ]
  },
  {
   "cell_type": "markdown",
   "metadata": {},
   "source": [
    "- Definir sets.  \n",
    "\n",
    " 1. Define la *lista* \n",
    "        ```python\n",
    "        temperaturas_diciembre = [10, 10, 13, 14, 12, 15, \n",
    "                                  12, 11, 13, 17, 18, 15, \n",
    "                                  15, 17, 17, 13, 13, 11,\n",
    "                                  12, 10, 12, 14, 12, 12,\n",
    "                                  11, 12, 16, 16, 14, 17, 18]\n",
    "        ```\n",
    "  2. Conviértala en un set  llamado `diciembre`."
   ]
  },
  {
   "cell_type": "code",
   "execution_count": 43,
   "metadata": {},
   "outputs": [
    {
     "name": "stdout",
     "output_type": "stream",
     "text": [
      "Las temperaturas no repetidas de diciembre son: {10, 11, 12, 13, 14, 15, 16, 17, 18}\n"
     ]
    }
   ],
   "source": [
    "temperaturas_diciembre = [10, 10, 13, 14, 12, 15, \n",
    "                                  12, 11, 13, 17, 18, 15, \n",
    "                                  15, 17, 17, 13, 13, 11,\n",
    "                                  12, 10, 12, 14, 12, 12,\n",
    "                                  11, 12, 16, 16, 14, 17, 18]\n",
    "\n",
    "diciembre = set(temperaturas_diciembre)\n",
    "print(\"Las temperaturas no repetidas de diciembre son:\", diciembre)\n"
   ]
  },
  {
   "cell_type": "markdown",
   "metadata": {},
   "source": [
    "  3. Piensa en 6 colores y almacenalos en un set llamado `colores`."
   ]
  },
  {
   "cell_type": "code",
   "execution_count": 44,
   "metadata": {},
   "outputs": [
    {
     "name": "stdout",
     "output_type": "stream",
     "text": [
      "Mi set de colores es: {'violeta', 'rosa', 'azul', 'amarillo', 'verde', 'rojo'}\n"
     ]
    }
   ],
   "source": [
    "colores = {'rojo', 'amarillo', 'verde', 'azul', 'violeta', 'rosa'}\n",
    "print(\"Mi set de colores es:\", colores)"
   ]
  },
  {
   "cell_type": "markdown",
   "metadata": {},
   "source": [
    "- Ampliar sets\n",
    "\n",
    "  4. Añade `'lila'` a `colores`.\n",
    "\n"
   ]
  },
  {
   "cell_type": "code",
   "execution_count": 45,
   "metadata": {},
   "outputs": [
    {
     "name": "stdout",
     "output_type": "stream",
     "text": [
      "Mi nuevo set de colores es: {'violeta', 'rosa', 'lila', 'azul', 'amarillo', 'verde', 'rojo'}\n"
     ]
    }
   ],
   "source": [
    "colores.add(\"lila\")\n",
    "print(\"Mi nuevo set de colores es:\", colores)\n"
   ]
  },
  {
   "cell_type": "markdown",
   "metadata": {},
   "source": [
    "  5. Añade `'azul'`, `'rojo'`, y `'granate'` a `colores` usando `.update()`."
   ]
  },
  {
   "cell_type": "code",
   "execution_count": 46,
   "metadata": {},
   "outputs": [
    {
     "name": "stdout",
     "output_type": "stream",
     "text": [
      "Mi nuevo set de colores es: {'violeta', 'rosa', 'lila', 'azul', 'amarillo', 'granate', 'verde', 'rojo'}\n"
     ]
    }
   ],
   "source": [
    "nuevos_colores = ['azul', 'rojo', 'granate']\n",
    "colores.update(nuevos_colores)\n",
    "print(\"Mi nuevo set de colores es:\", colores)\n",
    "\n",
    "# Ojo, update recibe una lista con los elementos que quiera añadir."
   ]
  },
  {
   "cell_type": "markdown",
   "metadata": {},
   "source": [
    "- `in`, `not in`\n",
    "\n",
    "  6. Tu set de `colores`, ¿tiene `'verde'`?"
   ]
  },
  {
   "cell_type": "code",
   "execution_count": 30,
   "metadata": {},
   "outputs": [
    {
     "name": "stdout",
     "output_type": "stream",
     "text": [
      "¿Tiene verde mi set de colores? True\n"
     ]
    }
   ],
   "source": [
    "print(\"¿Tiene verde mi set de colores?\", \"verde\" in colores)"
   ]
  },
  {
   "cell_type": "markdown",
   "metadata": {},
   "source": [
    " \n",
    "  7. ¿Y tiene `'ROJO'`?"
   ]
  },
  {
   "cell_type": "code",
   "execution_count": 31,
   "metadata": {},
   "outputs": [
    {
     "name": "stdout",
     "output_type": "stream",
     "text": [
      "¿Tiene rojo mi set de colores? True\n"
     ]
    }
   ],
   "source": [
    "print(\"¿Tiene rojo mi set de colores?\", \"rojo\" in colores)"
   ]
  },
  {
   "cell_type": "markdown",
   "metadata": {},
   "source": [
    "- Copiar, borrar elementos\n",
    "\n",
    "  8. Define el set `enero` para que sea igual a `diciembre`.\n",
    "\n",
    "  9. Quita las temperaturas `17`, y `18` de `enero`."
   ]
  },
  {
   "cell_type": "code",
   "execution_count": 51,
   "metadata": {},
   "outputs": [
    {
     "name": "stdout",
     "output_type": "stream",
     "text": [
      "El set enero copiado de diciembre es {10, 11, 12, 13, 14, 15, 16, 17, 18}\n",
      "Tras borrar el 17, me queda así enero: {10, 11, 12, 13, 14, 15, 16, 18}\n",
      "Tras borrar el 18, me queda así enero: {10, 11, 12, 13, 14, 15, 16}\n"
     ]
    }
   ],
   "source": [
    "enero = diciembre.copy()\n",
    "\n",
    "print(f\"El set enero copiado de diciembre es {enero}\")\n",
    "enero.remove(17)\n",
    "print(\"Tras borrar el 17, me queda así enero:\", enero)\n",
    "enero.remove(18)\n",
    "print(\"Tras borrar el 18, me queda así enero:\", enero)\n"
   ]
  },
  {
   "cell_type": "markdown",
   "metadata": {},
   "source": [
    "- Tamaño de un set\n",
    "\n",
    "  10. ¿Cuántas temperaturas distintas había en diciembre?"
   ]
  },
  {
   "cell_type": "code",
   "execution_count": 52,
   "metadata": {},
   "outputs": [
    {
     "name": "stdout",
     "output_type": "stream",
     "text": [
      "En diciembre había 9 temperaturas distintas\n"
     ]
    }
   ],
   "source": [
    "longitud= len(diciembre)\n",
    "print(f\"En diciembre había {longitud} temperaturas distintas\")"
   ]
  },
  {
   "cell_type": "markdown",
   "metadata": {},
   "source": [
    "  \n",
    "  11. ¿Y cuántas en enero?"
   ]
  },
  {
   "cell_type": "code",
   "execution_count": 53,
   "metadata": {},
   "outputs": [
    {
     "name": "stdout",
     "output_type": "stream",
     "text": [
      "En enero había 7 temperaturas distintas\n"
     ]
    }
   ],
   "source": [
    "longitud= len(enero)\n",
    "print(f\"En enero había {longitud} temperaturas distintas\")"
   ]
  },
  {
   "cell_type": "markdown",
   "metadata": {},
   "source": [
    "- Conjuntos con sets"
   ]
  },
  {
   "cell_type": "markdown",
   "metadata": {},
   "source": [
    "  12. Identifica los elementos que hay en `diciembre` que no están en `enero`."
   ]
  },
  {
   "cell_type": "code",
   "execution_count": 57,
   "metadata": {},
   "outputs": [
    {
     "name": "stdout",
     "output_type": "stream",
     "text": [
      "En diciembre hay elementos que no están en enero y son: {17, 18}\n",
      "En diciembre hay elementos que no están en enero y son: {17, 18}\n"
     ]
    }
   ],
   "source": [
    "unicos_diciembre = diciembre-enero\n",
    "print(\"En diciembre hay elementos que no están en enero y son:\" , unicos_diciembre) \n",
    "\n",
    "unicos_diciembre2 = diciembre.difference(enero)\n",
    "print(\"En diciembre hay elementos que no están en enero y son:\" , unicos_diciembre2) "
   ]
  },
  {
   "cell_type": "markdown",
   "metadata": {},
   "source": [
    "  13. Identifica los elementos que hay en `enero` que no están en `diciembre`."
   ]
  },
  {
   "cell_type": "code",
   "execution_count": 58,
   "metadata": {},
   "outputs": [
    {
     "name": "stdout",
     "output_type": "stream",
     "text": [
      "Los elementos de enero que no están en diciembre son: set()\n",
      "Los elementos de enero que no están en diciembre son: set()\n"
     ]
    }
   ],
   "source": [
    "unicos_enero = enero - diciembre\n",
    "print(\"Los elementos de enero que no están en diciembre son:\", unicos_enero) \n",
    "\n",
    "unicos_enero2 = enero.difference(diciembre)\n",
    "print(\"Los elementos de enero que no están en diciembre son:\", unicos_enero) \n"
   ]
  },
  {
   "cell_type": "markdown",
   "metadata": {},
   "source": [
    "  14. Identifica los elementos que tienen en común `diciembre` y `enero`."
   ]
  },
  {
   "cell_type": "code",
   "execution_count": 60,
   "metadata": {},
   "outputs": [
    {
     "name": "stdout",
     "output_type": "stream",
     "text": [
      "Las temperaturas comunes son: {10, 11, 12, 13, 14, 15, 16}\n",
      "Las temperaturas comunes son: {10, 11, 12, 13, 14, 15, 16}\n"
     ]
    }
   ],
   "source": [
    "comunes1 = diciembre.intersection(enero)\n",
    "print(\"Las temperaturas comunes son:\", comunes1)\n",
    "\n",
    "comunes2 = diciembre&enero\n",
    "print(\"Las temperaturas comunes son:\", comunes2)"
   ]
  },
  {
   "cell_type": "markdown",
   "metadata": {},
   "source": [
    "15. Identifica la diferencia simétrica de `colores` y `{'marrón','amarillo','cyan'}`. ¿Qué significa este resultado?"
   ]
  },
  {
   "cell_type": "code",
   "execution_count": 64,
   "metadata": {},
   "outputs": [
    {
     "name": "stdout",
     "output_type": "stream",
     "text": [
      "colores es: {'violeta', 'rosa', 'lila', 'azul', 'amarillo', 'granate', 'verde', 'rojo'}\n",
      "nuevos colores son: {'marrón','amarillo','cyan'}\n",
      "Los elementos que no coinciden en ninguno de los sets son: {'rosa', 'violeta', 'marrón', 'verde', 'cyan', 'lila', 'azul', 'granate', 'rojo'}\n",
      "Los elementos que no coinciden en ninguno de los sets son: {'rosa', 'violeta', 'marrón', 'verde', 'cyan', 'lila', 'azul', 'granate', 'rojo'}\n"
     ]
    }
   ],
   "source": [
    "print(\"colores es:\", colores)\n",
    "print(\"nuevos colores son: {'marrón','amarillo','cyan'}\") \n",
    "\n",
    "diferencia_simetrica1 = colores.symmetric_difference({'marrón','amarillo','cyan'})\n",
    "print(\"Los elementos que no coinciden en ninguno de los sets son:\", diferencia_simetrica1)\n",
    "\n",
    "diferencia_simetrica2 = colores.symmetric_difference({'marrón','amarillo','cyan'})\n",
    "print(\"Los elementos que no coinciden en ninguno de los sets son:\", diferencia_simetrica2)"
   ]
  },
  {
   "cell_type": "markdown",
   "metadata": {},
   "source": [
    "- Comparar sets\n",
    "\n",
    "  16. ¿Son *disjoint* `diciembre` y `enero`? ¿Por qué (no)?"
   ]
  },
  {
   "cell_type": "code",
   "execution_count": 66,
   "metadata": {},
   "outputs": [
    {
     "name": "stdout",
     "output_type": "stream",
     "text": [
      "¿Están desunidos enero y diciembre? False\n"
     ]
    }
   ],
   "source": [
    "estan_desunidos = diciembre.isdisjoint(enero)\n",
    "print(\"¿Están desunidos enero y diciembre?\",estan_desunidos)"
   ]
  },
  {
   "cell_type": "markdown",
   "metadata": {},
   "source": [
    "17. ¿Es `{'rojo','azul'}` un superset de colores?"
   ]
  },
  {
   "cell_type": "code",
   "execution_count": 69,
   "metadata": {},
   "outputs": [
    {
     "name": "stdout",
     "output_type": "stream",
     "text": [
      "False\n"
     ]
    }
   ],
   "source": [
    "respuesta = {'rojo','azul'}.issuperset(colores)\n",
    "print (respuesta)"
   ]
  },
  {
   "cell_type": "markdown",
   "metadata": {},
   "source": [
    "    \n",
    "  \n",
    "  18. ¿Y un subset?"
   ]
  }
 ],
 "metadata": {
  "kernelspec": {
   "display_name": "base",
   "language": "python",
   "name": "python3"
  },
  "language_info": {
   "codemirror_mode": {
    "name": "ipython",
    "version": 3
   },
   "file_extension": ".py",
   "mimetype": "text/x-python",
   "name": "python",
   "nbconvert_exporter": "python",
   "pygments_lexer": "ipython3",
   "version": "3.12.4"
  }
 },
 "nbformat": 4,
 "nbformat_minor": 2
}
