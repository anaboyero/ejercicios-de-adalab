{
 "cells": [
  {
   "cell_type": "markdown",
   "metadata": {},
   "source": [
    "Acceder al primer elemento de una tupla"
   ]
  },
  {
   "cell_type": "code",
   "execution_count": 3,
   "metadata": {},
   "outputs": [
    {
     "name": "stdout",
     "output_type": "stream",
     "text": [
      "La latitud de Madrid es 40.4165\n"
     ]
    }
   ],
   "source": [
    "coordenadas_Madrid = (40.4165, -3.70256)\n",
    "print(f\"La latitud de Madrid es\", coordenadas_Madrid[0])"
   ]
  },
  {
   "cell_type": "markdown",
   "metadata": {},
   "source": [
    "Dada una tupla, obtén el último elemento."
   ]
  },
  {
   "cell_type": "code",
   "execution_count": 4,
   "metadata": {},
   "outputs": [
    {
     "name": "stdout",
     "output_type": "stream",
     "text": [
      "La longitud de Madrid es -3.70256\n"
     ]
    }
   ],
   "source": [
    "print(f\"La longitud de Madrid es\", coordenadas_Madrid[-1])"
   ]
  },
  {
   "cell_type": "markdown",
   "metadata": {},
   "source": [
    "Obtener la longitud de una tupla"
   ]
  },
  {
   "cell_type": "code",
   "execution_count": 5,
   "metadata": {},
   "outputs": [
    {
     "name": "stdout",
     "output_type": "stream",
     "text": [
      "Una tupla de coordenadas tiene 2 elementos\n"
     ]
    }
   ],
   "source": [
    "print(f\"Una tupla de coordenadas tiene {len(coordenadas_Madrid)} elementos\")"
   ]
  },
  {
   "cell_type": "markdown",
   "metadata": {},
   "source": [
    "Dadas dos tuplas, crea una nueva tupla que contenga todos los elementos de ambas tuplas."
   ]
  },
  {
   "cell_type": "code",
   "execution_count": 8,
   "metadata": {},
   "outputs": [
    {
     "name": "stdout",
     "output_type": "stream",
     "text": [
      "Las coordenadas de Madrid y las de París son:  (48.8534, 2.3488, 40.4165, -3.70256)\n"
     ]
    }
   ],
   "source": [
    "coordenadas_Madrid = (40.4165, -3.70256)\n",
    "coordenadas_Paris = ( 48.8534,  2.3488)\n",
    "\n",
    "\n",
    "coordenadas_conjuntas = coordenadas_Paris + coordenadas_Madrid\n",
    "print(\"Almaceno en una sola tupla las coordenadas de Madrid y las de París: \", coordenadas_conjuntas)"
   ]
  },
  {
   "cell_type": "markdown",
   "metadata": {},
   "source": [
    "Encontrar el índice de un elemento en una tupla"
   ]
  },
  {
   "cell_type": "code",
   "execution_count": 11,
   "metadata": {},
   "outputs": [
    {
     "name": "stdout",
     "output_type": "stream",
     "text": [
      "¿En qué índice está esta coordenada de París? En el 0\n"
     ]
    }
   ],
   "source": [
    "indice = coordenadas_Paris.index(48.8534)\n",
    "print(\"¿En qué índice está esta coordenada de París? En el\", indice)"
   ]
  },
  {
   "cell_type": "markdown",
   "metadata": {},
   "source": [
    "Dada una tupla y un valor objetivo, encuentra el índice del primer elemento que coincida con el valor objetivo."
   ]
  },
  {
   "cell_type": "code",
   "execution_count": 12,
   "metadata": {},
   "outputs": [
    {
     "name": "stdout",
     "output_type": "stream",
     "text": [
      "La primera vez que vemos el valor 0.0 en las cooordenadas de Null Island es en la posición 0\n"
     ]
    }
   ],
   "source": [
    "# Null Island es una isla ficticia​ localizada en el punto donde el ecuador \n",
    "# terrestre es atravesado por el meridiano cero. Sus coordenadas son 0°N 0°E\n",
    "\n",
    "coordenadas_NullIsland = (0.0000, 0.0000)\n",
    "\n",
    "indice = coordenadas_NullIsland.index(0.0000)\n",
    "\n",
    "print(f\"La primera vez que vemos el valor {0.0000} en las cooordenadas de Null Island es en la posición {indice}\")\n",
    "\n"
   ]
  },
  {
   "cell_type": "markdown",
   "metadata": {},
   "source": [
    "Contar ocurrencias de un elemento en una tupla"
   ]
  },
  {
   "cell_type": "code",
   "execution_count": 13,
   "metadata": {},
   "outputs": [
    {
     "name": "stdout",
     "output_type": "stream",
     "text": [
      "Esta semana hizo 2 días 40 grados\n"
     ]
    }
   ],
   "source": [
    "temperaturas_semana = (38, 39, 40, 37, 38, 37, 40)\n",
    "num_40 = temperaturas_semana.count(40)\n",
    "print(f\"Esta semana hizo {num_40} días 40 grados\")"
   ]
  },
  {
   "cell_type": "markdown",
   "metadata": {},
   "source": [
    "Dada una tupla, crea una nueva tupla que contenga los elementos desde el índice 1 hasta el índice 3 (sin incluirlo)."
   ]
  },
  {
   "cell_type": "code",
   "execution_count": 14,
   "metadata": {},
   "outputs": [
    {
     "name": "stdout",
     "output_type": "stream",
     "text": [
      "El martes y el miércoles hizo estas temperaturas (39, 40)\n"
     ]
    }
   ],
   "source": [
    "temperaturas_semana = (38, 39, 40, 37, 38, 37, 40)\n",
    "temperaturas_martes_miercoles = temperaturas_semana[1:3]\n",
    "print(\"El martes y el miércoles hizo estas temperaturas\", temperaturas_martes_miercoles)"
   ]
  },
  {
   "cell_type": "markdown",
   "metadata": {},
   "source": [
    "Invertir una tupla"
   ]
  },
  {
   "cell_type": "code",
   "execution_count": null,
   "metadata": {},
   "outputs": [],
   "source": [
    "dias_semana = ()"
   ]
  }
 ],
 "metadata": {
  "kernelspec": {
   "display_name": "Python 3",
   "language": "python",
   "name": "python3"
  },
  "language_info": {
   "codemirror_mode": {
    "name": "ipython",
    "version": 3
   },
   "file_extension": ".py",
   "mimetype": "text/x-python",
   "name": "python",
   "nbconvert_exporter": "python",
   "pygments_lexer": "ipython3",
   "version": "3.12.4"
  }
 },
 "nbformat": 4,
 "nbformat_minor": 2
}
